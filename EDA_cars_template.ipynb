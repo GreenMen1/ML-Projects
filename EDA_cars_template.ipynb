{
  "nbformat": 4,
  "nbformat_minor": 0,
  "metadata": {
    "colab": {
      "provenance": [],
      "include_colab_link": true
    },
    "kernelspec": {
      "name": "python3",
      "display_name": "Python 3"
    },
    "language_info": {
      "name": "python"
    }
  },
  "cells": [
    {
      "cell_type": "markdown",
      "metadata": {
        "id": "view-in-github",
        "colab_type": "text"
      },
      "source": [
        "<a href=\"https://colab.research.google.com/github/GreenMen1/ML-Projects/blob/main/EDA_cars_template.ipynb\" target=\"_parent\"><img src=\"https://colab.research.google.com/assets/colab-badge.svg\" alt=\"Open In Colab\"/></a>"
      ]
    },
    {
      "cell_type": "markdown",
      "source": [
        "# Подержанные автомобили"
      ],
      "metadata": {
        "id": "d04VdHY7jUnn"
      }
    },
    {
      "cell_type": "markdown",
      "source": [
        "Датасет содержит информацию о характеристиках и ценах подержанных автомобилей в некоторой стране"
      ],
      "metadata": {
        "id": "DxMCeYxukBKi"
      }
    },
    {
      "cell_type": "markdown",
      "source": [
        "## Импорт библиотек, константы"
      ],
      "metadata": {
        "id": "lhA1Am55jZ3D"
      }
    },
    {
      "cell_type": "code",
      "execution_count": 1,
      "metadata": {
        "id": "HV1hv_cBi-zx"
      },
      "outputs": [],
      "source": [
        "import numpy as np\n",
        "import pandas as pd\n",
        "import seaborn as sns\n",
        "import matplotlib.pyplot as plt"
      ]
    },
    {
      "cell_type": "code",
      "source": [
        "RANDOM_STATE = 42"
      ],
      "metadata": {
        "id": "IfM0ZXowjluS"
      },
      "execution_count": 2,
      "outputs": []
    },
    {
      "cell_type": "code",
      "source": [
        "DATASET_PATH = \"https://raw.githubusercontent.com/evgpat/stepik_from_idea_to_mvp/main/datasets/cars.csv\""
      ],
      "metadata": {
        "id": "otQxpwuxjoBA"
      },
      "execution_count": 3,
      "outputs": []
    },
    {
      "cell_type": "markdown",
      "source": [
        "## Загрузка и обзор данных"
      ],
      "metadata": {
        "id": "Fp7HfNokjzdr"
      }
    },
    {
      "cell_type": "markdown",
      "source": [
        "### Загрузка"
      ],
      "metadata": {
        "id": "voBVih6bkqoP"
      }
    },
    {
      "cell_type": "code",
      "source": [
        "# загрузка данных\n",
        "df = pd.read_csv('cars.csv')"
      ],
      "metadata": {
        "id": "akRLgc55jyGl"
      },
      "execution_count": 4,
      "outputs": []
    },
    {
      "cell_type": "markdown",
      "source": [
        "### Описание данных"
      ],
      "metadata": {
        "id": "mNHZ_G-tkb1e"
      }
    },
    {
      "cell_type": "markdown",
      "source": [
        "**Целевая переменная**\n",
        "- `selling_price`: цена продажи, числовая\n",
        "\n",
        "**Признаки**\n",
        "- `name` (string): модель автомобиля\n",
        "- `year` (numeric, int): год выпуска с завода-изготовителя\n",
        "- `km_driven` (numeric, int): пробег на дату продажи\n",
        "- `fuel` (categorical: _Diesel_ или _Petrol_, или _CNG_, или _LPG_, или _electric_): тип топлива\n",
        "- `seller_type` (categorical: _Individual_ или _Dealer_, или _Trustmark Dealer_): продавец\n",
        "- `transmission` (categorical: _Manual_ или _Automatic_): тип трансмиссии\n",
        "- `owner` (categorical: _First Owner_ или _Second Owner_, или _Third Owner_, или _Fourth & Above Owner_): какой по счёту хозяин?\n",
        "- `mileage` (string, по смыслу числовой): пробег, требует предобработки км / л\n",
        "- `engine` (string, по смыслу числовой): рабочий объем двигателя, требует предобработки\n",
        "- `max_power` (string, по смыслу числовой): пиковая мощность двигателя, требует предобработки\n",
        "- `torque` (string, по смыслу числовой, а то и 2): крутящий момент, требует предобработки\n",
        "- `seats` (numeric, float; по смыслу categorical, int)"
      ],
      "metadata": {
        "id": "3FxkHi2QkEPV"
      }
    },
    {
      "cell_type": "code",
      "source": [
        "# информация от столбцах\n",
        "df.info()"
      ],
      "metadata": {
        "colab": {
          "base_uri": "https://localhost:8080/"
        },
        "id": "VterO9sXkWTi",
        "outputId": "30aa7f1a-4165-4982-bb20-5f45c9540f9c"
      },
      "execution_count": 5,
      "outputs": [
        {
          "output_type": "stream",
          "name": "stdout",
          "text": [
            "<class 'pandas.core.frame.DataFrame'>\n",
            "RangeIndex: 6999 entries, 0 to 6998\n",
            "Data columns (total 13 columns):\n",
            " #   Column         Non-Null Count  Dtype  \n",
            "---  ------         --------------  -----  \n",
            " 0   name           6999 non-null   object \n",
            " 1   year           6999 non-null   int64  \n",
            " 2   selling_price  6999 non-null   int64  \n",
            " 3   km_driven      6999 non-null   int64  \n",
            " 4   fuel           6999 non-null   object \n",
            " 5   seller_type    6999 non-null   object \n",
            " 6   transmission   6999 non-null   object \n",
            " 7   owner          6999 non-null   object \n",
            " 8   mileage        6797 non-null   object \n",
            " 9   engine         6797 non-null   object \n",
            " 10  max_power      6803 non-null   object \n",
            " 11  torque         6796 non-null   object \n",
            " 12  seats          6797 non-null   float64\n",
            "dtypes: float64(1), int64(3), object(9)\n",
            "memory usage: 711.0+ KB\n"
          ]
        }
      ]
    },
    {
      "cell_type": "code",
      "source": [
        "# первые пять записей из датасета\n",
        "df.head(5)"
      ],
      "metadata": {
        "colab": {
          "base_uri": "https://localhost:8080/",
          "height": 547
        },
        "id": "RsDeQvZXmVpW",
        "outputId": "14ef5c0d-e2b9-49d5-d03e-8418e5066418"
      },
      "execution_count": 6,
      "outputs": [
        {
          "output_type": "execute_result",
          "data": {
            "text/plain": [
              "                            name  year  selling_price  km_driven    fuel  \\\n",
              "0         Maruti Swift Dzire VDI  2014         450000     145500  Diesel   \n",
              "1   Skoda Rapid 1.5 TDI Ambition  2014         370000     120000  Diesel   \n",
              "2      Hyundai i20 Sportz Diesel  2010         225000     127000  Diesel   \n",
              "3         Maruti Swift VXI BSIII  2007         130000     120000  Petrol   \n",
              "4  Hyundai Xcent 1.2 VTVT E Plus  2017         440000      45000  Petrol   \n",
              "\n",
              "  seller_type transmission         owner     mileage   engine   max_power  \\\n",
              "0  Individual       Manual   First Owner   23.4 kmpl  1248 CC      74 bhp   \n",
              "1  Individual       Manual  Second Owner  21.14 kmpl  1498 CC  103.52 bhp   \n",
              "2  Individual       Manual   First Owner   23.0 kmpl  1396 CC      90 bhp   \n",
              "3  Individual       Manual   First Owner   16.1 kmpl  1298 CC    88.2 bhp   \n",
              "4  Individual       Manual   First Owner  20.14 kmpl  1197 CC   81.86 bhp   \n",
              "\n",
              "                     torque  seats  \n",
              "0            190Nm@ 2000rpm    5.0  \n",
              "1       250Nm@ 1500-2500rpm    5.0  \n",
              "2  22.4 kgm at 1750-2750rpm    5.0  \n",
              "3     11.5@ 4,500(kgm@ rpm)    5.0  \n",
              "4         113.75nm@ 4000rpm    5.0  "
            ],
            "text/html": [
              "\n",
              "  <div id=\"df-16b34701-ca27-41fd-9251-4d859cbf252c\">\n",
              "    <div class=\"colab-df-container\">\n",
              "      <div>\n",
              "<style scoped>\n",
              "    .dataframe tbody tr th:only-of-type {\n",
              "        vertical-align: middle;\n",
              "    }\n",
              "\n",
              "    .dataframe tbody tr th {\n",
              "        vertical-align: top;\n",
              "    }\n",
              "\n",
              "    .dataframe thead th {\n",
              "        text-align: right;\n",
              "    }\n",
              "</style>\n",
              "<table border=\"1\" class=\"dataframe\">\n",
              "  <thead>\n",
              "    <tr style=\"text-align: right;\">\n",
              "      <th></th>\n",
              "      <th>name</th>\n",
              "      <th>year</th>\n",
              "      <th>selling_price</th>\n",
              "      <th>km_driven</th>\n",
              "      <th>fuel</th>\n",
              "      <th>seller_type</th>\n",
              "      <th>transmission</th>\n",
              "      <th>owner</th>\n",
              "      <th>mileage</th>\n",
              "      <th>engine</th>\n",
              "      <th>max_power</th>\n",
              "      <th>torque</th>\n",
              "      <th>seats</th>\n",
              "    </tr>\n",
              "  </thead>\n",
              "  <tbody>\n",
              "    <tr>\n",
              "      <th>0</th>\n",
              "      <td>Maruti Swift Dzire VDI</td>\n",
              "      <td>2014</td>\n",
              "      <td>450000</td>\n",
              "      <td>145500</td>\n",
              "      <td>Diesel</td>\n",
              "      <td>Individual</td>\n",
              "      <td>Manual</td>\n",
              "      <td>First Owner</td>\n",
              "      <td>23.4 kmpl</td>\n",
              "      <td>1248 CC</td>\n",
              "      <td>74 bhp</td>\n",
              "      <td>190Nm@ 2000rpm</td>\n",
              "      <td>5.0</td>\n",
              "    </tr>\n",
              "    <tr>\n",
              "      <th>1</th>\n",
              "      <td>Skoda Rapid 1.5 TDI Ambition</td>\n",
              "      <td>2014</td>\n",
              "      <td>370000</td>\n",
              "      <td>120000</td>\n",
              "      <td>Diesel</td>\n",
              "      <td>Individual</td>\n",
              "      <td>Manual</td>\n",
              "      <td>Second Owner</td>\n",
              "      <td>21.14 kmpl</td>\n",
              "      <td>1498 CC</td>\n",
              "      <td>103.52 bhp</td>\n",
              "      <td>250Nm@ 1500-2500rpm</td>\n",
              "      <td>5.0</td>\n",
              "    </tr>\n",
              "    <tr>\n",
              "      <th>2</th>\n",
              "      <td>Hyundai i20 Sportz Diesel</td>\n",
              "      <td>2010</td>\n",
              "      <td>225000</td>\n",
              "      <td>127000</td>\n",
              "      <td>Diesel</td>\n",
              "      <td>Individual</td>\n",
              "      <td>Manual</td>\n",
              "      <td>First Owner</td>\n",
              "      <td>23.0 kmpl</td>\n",
              "      <td>1396 CC</td>\n",
              "      <td>90 bhp</td>\n",
              "      <td>22.4 kgm at 1750-2750rpm</td>\n",
              "      <td>5.0</td>\n",
              "    </tr>\n",
              "    <tr>\n",
              "      <th>3</th>\n",
              "      <td>Maruti Swift VXI BSIII</td>\n",
              "      <td>2007</td>\n",
              "      <td>130000</td>\n",
              "      <td>120000</td>\n",
              "      <td>Petrol</td>\n",
              "      <td>Individual</td>\n",
              "      <td>Manual</td>\n",
              "      <td>First Owner</td>\n",
              "      <td>16.1 kmpl</td>\n",
              "      <td>1298 CC</td>\n",
              "      <td>88.2 bhp</td>\n",
              "      <td>11.5@ 4,500(kgm@ rpm)</td>\n",
              "      <td>5.0</td>\n",
              "    </tr>\n",
              "    <tr>\n",
              "      <th>4</th>\n",
              "      <td>Hyundai Xcent 1.2 VTVT E Plus</td>\n",
              "      <td>2017</td>\n",
              "      <td>440000</td>\n",
              "      <td>45000</td>\n",
              "      <td>Petrol</td>\n",
              "      <td>Individual</td>\n",
              "      <td>Manual</td>\n",
              "      <td>First Owner</td>\n",
              "      <td>20.14 kmpl</td>\n",
              "      <td>1197 CC</td>\n",
              "      <td>81.86 bhp</td>\n",
              "      <td>113.75nm@ 4000rpm</td>\n",
              "      <td>5.0</td>\n",
              "    </tr>\n",
              "  </tbody>\n",
              "</table>\n",
              "</div>\n",
              "      <button class=\"colab-df-convert\" onclick=\"convertToInteractive('df-16b34701-ca27-41fd-9251-4d859cbf252c')\"\n",
              "              title=\"Convert this dataframe to an interactive table.\"\n",
              "              style=\"display:none;\">\n",
              "        \n",
              "  <svg xmlns=\"http://www.w3.org/2000/svg\" height=\"24px\"viewBox=\"0 0 24 24\"\n",
              "       width=\"24px\">\n",
              "    <path d=\"M0 0h24v24H0V0z\" fill=\"none\"/>\n",
              "    <path d=\"M18.56 5.44l.94 2.06.94-2.06 2.06-.94-2.06-.94-.94-2.06-.94 2.06-2.06.94zm-11 1L8.5 8.5l.94-2.06 2.06-.94-2.06-.94L8.5 2.5l-.94 2.06-2.06.94zm10 10l.94 2.06.94-2.06 2.06-.94-2.06-.94-.94-2.06-.94 2.06-2.06.94z\"/><path d=\"M17.41 7.96l-1.37-1.37c-.4-.4-.92-.59-1.43-.59-.52 0-1.04.2-1.43.59L10.3 9.45l-7.72 7.72c-.78.78-.78 2.05 0 2.83L4 21.41c.39.39.9.59 1.41.59.51 0 1.02-.2 1.41-.59l7.78-7.78 2.81-2.81c.8-.78.8-2.07 0-2.86zM5.41 20L4 18.59l7.72-7.72 1.47 1.35L5.41 20z\"/>\n",
              "  </svg>\n",
              "      </button>\n",
              "      \n",
              "  <style>\n",
              "    .colab-df-container {\n",
              "      display:flex;\n",
              "      flex-wrap:wrap;\n",
              "      gap: 12px;\n",
              "    }\n",
              "\n",
              "    .colab-df-convert {\n",
              "      background-color: #E8F0FE;\n",
              "      border: none;\n",
              "      border-radius: 50%;\n",
              "      cursor: pointer;\n",
              "      display: none;\n",
              "      fill: #1967D2;\n",
              "      height: 32px;\n",
              "      padding: 0 0 0 0;\n",
              "      width: 32px;\n",
              "    }\n",
              "\n",
              "    .colab-df-convert:hover {\n",
              "      background-color: #E2EBFA;\n",
              "      box-shadow: 0px 1px 2px rgba(60, 64, 67, 0.3), 0px 1px 3px 1px rgba(60, 64, 67, 0.15);\n",
              "      fill: #174EA6;\n",
              "    }\n",
              "\n",
              "    [theme=dark] .colab-df-convert {\n",
              "      background-color: #3B4455;\n",
              "      fill: #D2E3FC;\n",
              "    }\n",
              "\n",
              "    [theme=dark] .colab-df-convert:hover {\n",
              "      background-color: #434B5C;\n",
              "      box-shadow: 0px 1px 3px 1px rgba(0, 0, 0, 0.15);\n",
              "      filter: drop-shadow(0px 1px 2px rgba(0, 0, 0, 0.3));\n",
              "      fill: #FFFFFF;\n",
              "    }\n",
              "  </style>\n",
              "\n",
              "      <script>\n",
              "        const buttonEl =\n",
              "          document.querySelector('#df-16b34701-ca27-41fd-9251-4d859cbf252c button.colab-df-convert');\n",
              "        buttonEl.style.display =\n",
              "          google.colab.kernel.accessAllowed ? 'block' : 'none';\n",
              "\n",
              "        async function convertToInteractive(key) {\n",
              "          const element = document.querySelector('#df-16b34701-ca27-41fd-9251-4d859cbf252c');\n",
              "          const dataTable =\n",
              "            await google.colab.kernel.invokeFunction('convertToInteractive',\n",
              "                                                     [key], {});\n",
              "          if (!dataTable) return;\n",
              "\n",
              "          const docLinkHtml = 'Like what you see? Visit the ' +\n",
              "            '<a target=\"_blank\" href=https://colab.research.google.com/notebooks/data_table.ipynb>data table notebook</a>'\n",
              "            + ' to learn more about interactive tables.';\n",
              "          element.innerHTML = '';\n",
              "          dataTable['output_type'] = 'display_data';\n",
              "          await google.colab.output.renderOutput(dataTable, element);\n",
              "          const docLink = document.createElement('div');\n",
              "          docLink.innerHTML = docLinkHtml;\n",
              "          element.appendChild(docLink);\n",
              "        }\n",
              "      </script>\n",
              "    </div>\n",
              "  </div>\n",
              "  "
            ]
          },
          "metadata": {},
          "execution_count": 6
        }
      ]
    },
    {
      "cell_type": "markdown",
      "source": [
        "Всего элементов 6999, есть небольшие пропуски. 13 параметров, из них целевой цена selling_price. Переведем в численные типы столбцы mileage, engine, max_power, torque, seats. Предварительно столб Крутящего момента разделим на 2 - Н\\м и Оборотов в минуту rpm. Но сначала посмотрим на объекты где есть пропуски."
      ],
      "metadata": {
        "id": "76LSratpeeIJ"
      }
    },
    {
      "cell_type": "code",
      "source": [
        "df[df['mileage'].isna()].head()"
      ],
      "metadata": {
        "colab": {
          "base_uri": "https://localhost:8080/",
          "height": 547
        },
        "id": "_mZ03MuNclFF",
        "outputId": "e469c4b8-5033-400e-c7a9-f93f8c6c5d9d"
      },
      "execution_count": 7,
      "outputs": [
        {
          "output_type": "execute_result",
          "data": {
            "text/plain": [
              "                            name  year  selling_price  km_driven    fuel  \\\n",
              "12          Maruti Swift 1.3 VXi  2007         200000      80000  Petrol   \n",
              "28            Fiat Palio 1.2 ELX  2003          70000      50000  Petrol   \n",
              "69               Tata Indica DLS  2003          50000      70000  Diesel   \n",
              "78   Maruti Swift VDI BSIV W ABS  2015         475000      78000  Diesel   \n",
              "107        Maruti Swift VDI BSIV  2010         300000     120000  Diesel   \n",
              "\n",
              "    seller_type transmission         owner mileage engine max_power torque  \\\n",
              "12   Individual       Manual  Second Owner     NaN    NaN       NaN    NaN   \n",
              "28   Individual       Manual  Second Owner     NaN    NaN       NaN    NaN   \n",
              "69   Individual       Manual   First Owner     NaN    NaN       NaN    NaN   \n",
              "78       Dealer       Manual   First Owner     NaN    NaN       NaN    NaN   \n",
              "107  Individual       Manual  Second Owner     NaN    NaN       NaN    NaN   \n",
              "\n",
              "     seats  \n",
              "12     NaN  \n",
              "28     NaN  \n",
              "69     NaN  \n",
              "78     NaN  \n",
              "107    NaN  "
            ],
            "text/html": [
              "\n",
              "  <div id=\"df-a406a051-05fe-4158-80af-6d8188da4e47\">\n",
              "    <div class=\"colab-df-container\">\n",
              "      <div>\n",
              "<style scoped>\n",
              "    .dataframe tbody tr th:only-of-type {\n",
              "        vertical-align: middle;\n",
              "    }\n",
              "\n",
              "    .dataframe tbody tr th {\n",
              "        vertical-align: top;\n",
              "    }\n",
              "\n",
              "    .dataframe thead th {\n",
              "        text-align: right;\n",
              "    }\n",
              "</style>\n",
              "<table border=\"1\" class=\"dataframe\">\n",
              "  <thead>\n",
              "    <tr style=\"text-align: right;\">\n",
              "      <th></th>\n",
              "      <th>name</th>\n",
              "      <th>year</th>\n",
              "      <th>selling_price</th>\n",
              "      <th>km_driven</th>\n",
              "      <th>fuel</th>\n",
              "      <th>seller_type</th>\n",
              "      <th>transmission</th>\n",
              "      <th>owner</th>\n",
              "      <th>mileage</th>\n",
              "      <th>engine</th>\n",
              "      <th>max_power</th>\n",
              "      <th>torque</th>\n",
              "      <th>seats</th>\n",
              "    </tr>\n",
              "  </thead>\n",
              "  <tbody>\n",
              "    <tr>\n",
              "      <th>12</th>\n",
              "      <td>Maruti Swift 1.3 VXi</td>\n",
              "      <td>2007</td>\n",
              "      <td>200000</td>\n",
              "      <td>80000</td>\n",
              "      <td>Petrol</td>\n",
              "      <td>Individual</td>\n",
              "      <td>Manual</td>\n",
              "      <td>Second Owner</td>\n",
              "      <td>NaN</td>\n",
              "      <td>NaN</td>\n",
              "      <td>NaN</td>\n",
              "      <td>NaN</td>\n",
              "      <td>NaN</td>\n",
              "    </tr>\n",
              "    <tr>\n",
              "      <th>28</th>\n",
              "      <td>Fiat Palio 1.2 ELX</td>\n",
              "      <td>2003</td>\n",
              "      <td>70000</td>\n",
              "      <td>50000</td>\n",
              "      <td>Petrol</td>\n",
              "      <td>Individual</td>\n",
              "      <td>Manual</td>\n",
              "      <td>Second Owner</td>\n",
              "      <td>NaN</td>\n",
              "      <td>NaN</td>\n",
              "      <td>NaN</td>\n",
              "      <td>NaN</td>\n",
              "      <td>NaN</td>\n",
              "    </tr>\n",
              "    <tr>\n",
              "      <th>69</th>\n",
              "      <td>Tata Indica DLS</td>\n",
              "      <td>2003</td>\n",
              "      <td>50000</td>\n",
              "      <td>70000</td>\n",
              "      <td>Diesel</td>\n",
              "      <td>Individual</td>\n",
              "      <td>Manual</td>\n",
              "      <td>First Owner</td>\n",
              "      <td>NaN</td>\n",
              "      <td>NaN</td>\n",
              "      <td>NaN</td>\n",
              "      <td>NaN</td>\n",
              "      <td>NaN</td>\n",
              "    </tr>\n",
              "    <tr>\n",
              "      <th>78</th>\n",
              "      <td>Maruti Swift VDI BSIV W ABS</td>\n",
              "      <td>2015</td>\n",
              "      <td>475000</td>\n",
              "      <td>78000</td>\n",
              "      <td>Diesel</td>\n",
              "      <td>Dealer</td>\n",
              "      <td>Manual</td>\n",
              "      <td>First Owner</td>\n",
              "      <td>NaN</td>\n",
              "      <td>NaN</td>\n",
              "      <td>NaN</td>\n",
              "      <td>NaN</td>\n",
              "      <td>NaN</td>\n",
              "    </tr>\n",
              "    <tr>\n",
              "      <th>107</th>\n",
              "      <td>Maruti Swift VDI BSIV</td>\n",
              "      <td>2010</td>\n",
              "      <td>300000</td>\n",
              "      <td>120000</td>\n",
              "      <td>Diesel</td>\n",
              "      <td>Individual</td>\n",
              "      <td>Manual</td>\n",
              "      <td>Second Owner</td>\n",
              "      <td>NaN</td>\n",
              "      <td>NaN</td>\n",
              "      <td>NaN</td>\n",
              "      <td>NaN</td>\n",
              "      <td>NaN</td>\n",
              "    </tr>\n",
              "  </tbody>\n",
              "</table>\n",
              "</div>\n",
              "      <button class=\"colab-df-convert\" onclick=\"convertToInteractive('df-a406a051-05fe-4158-80af-6d8188da4e47')\"\n",
              "              title=\"Convert this dataframe to an interactive table.\"\n",
              "              style=\"display:none;\">\n",
              "        \n",
              "  <svg xmlns=\"http://www.w3.org/2000/svg\" height=\"24px\"viewBox=\"0 0 24 24\"\n",
              "       width=\"24px\">\n",
              "    <path d=\"M0 0h24v24H0V0z\" fill=\"none\"/>\n",
              "    <path d=\"M18.56 5.44l.94 2.06.94-2.06 2.06-.94-2.06-.94-.94-2.06-.94 2.06-2.06.94zm-11 1L8.5 8.5l.94-2.06 2.06-.94-2.06-.94L8.5 2.5l-.94 2.06-2.06.94zm10 10l.94 2.06.94-2.06 2.06-.94-2.06-.94-.94-2.06-.94 2.06-2.06.94z\"/><path d=\"M17.41 7.96l-1.37-1.37c-.4-.4-.92-.59-1.43-.59-.52 0-1.04.2-1.43.59L10.3 9.45l-7.72 7.72c-.78.78-.78 2.05 0 2.83L4 21.41c.39.39.9.59 1.41.59.51 0 1.02-.2 1.41-.59l7.78-7.78 2.81-2.81c.8-.78.8-2.07 0-2.86zM5.41 20L4 18.59l7.72-7.72 1.47 1.35L5.41 20z\"/>\n",
              "  </svg>\n",
              "      </button>\n",
              "      \n",
              "  <style>\n",
              "    .colab-df-container {\n",
              "      display:flex;\n",
              "      flex-wrap:wrap;\n",
              "      gap: 12px;\n",
              "    }\n",
              "\n",
              "    .colab-df-convert {\n",
              "      background-color: #E8F0FE;\n",
              "      border: none;\n",
              "      border-radius: 50%;\n",
              "      cursor: pointer;\n",
              "      display: none;\n",
              "      fill: #1967D2;\n",
              "      height: 32px;\n",
              "      padding: 0 0 0 0;\n",
              "      width: 32px;\n",
              "    }\n",
              "\n",
              "    .colab-df-convert:hover {\n",
              "      background-color: #E2EBFA;\n",
              "      box-shadow: 0px 1px 2px rgba(60, 64, 67, 0.3), 0px 1px 3px 1px rgba(60, 64, 67, 0.15);\n",
              "      fill: #174EA6;\n",
              "    }\n",
              "\n",
              "    [theme=dark] .colab-df-convert {\n",
              "      background-color: #3B4455;\n",
              "      fill: #D2E3FC;\n",
              "    }\n",
              "\n",
              "    [theme=dark] .colab-df-convert:hover {\n",
              "      background-color: #434B5C;\n",
              "      box-shadow: 0px 1px 3px 1px rgba(0, 0, 0, 0.15);\n",
              "      filter: drop-shadow(0px 1px 2px rgba(0, 0, 0, 0.3));\n",
              "      fill: #FFFFFF;\n",
              "    }\n",
              "  </style>\n",
              "\n",
              "      <script>\n",
              "        const buttonEl =\n",
              "          document.querySelector('#df-a406a051-05fe-4158-80af-6d8188da4e47 button.colab-df-convert');\n",
              "        buttonEl.style.display =\n",
              "          google.colab.kernel.accessAllowed ? 'block' : 'none';\n",
              "\n",
              "        async function convertToInteractive(key) {\n",
              "          const element = document.querySelector('#df-a406a051-05fe-4158-80af-6d8188da4e47');\n",
              "          const dataTable =\n",
              "            await google.colab.kernel.invokeFunction('convertToInteractive',\n",
              "                                                     [key], {});\n",
              "          if (!dataTable) return;\n",
              "\n",
              "          const docLinkHtml = 'Like what you see? Visit the ' +\n",
              "            '<a target=\"_blank\" href=https://colab.research.google.com/notebooks/data_table.ipynb>data table notebook</a>'\n",
              "            + ' to learn more about interactive tables.';\n",
              "          element.innerHTML = '';\n",
              "          dataTable['output_type'] = 'display_data';\n",
              "          await google.colab.output.renderOutput(dataTable, element);\n",
              "          const docLink = document.createElement('div');\n",
              "          docLink.innerHTML = docLinkHtml;\n",
              "          element.appendChild(docLink);\n",
              "        }\n",
              "      </script>\n",
              "    </div>\n",
              "  </div>\n",
              "  "
            ]
          },
          "metadata": {},
          "execution_count": 7
        }
      ]
    },
    {
      "cell_type": "code",
      "source": [
        "df[df['name']=='Maruti Swift 1.3 VXi'].head()"
      ],
      "metadata": {
        "colab": {
          "base_uri": "https://localhost:8080/",
          "height": 530
        },
        "id": "bWVsEc1TeSEu",
        "outputId": "d95115ed-3bc8-43ea-f876-93c20089ba4d"
      },
      "execution_count": 8,
      "outputs": [
        {
          "output_type": "execute_result",
          "data": {
            "text/plain": [
              "                      name  year  selling_price  km_driven    fuel  \\\n",
              "12    Maruti Swift 1.3 VXi  2007         200000      80000  Petrol   \n",
              "197   Maruti Swift 1.3 VXi  2008         130000     120000  Petrol   \n",
              "267   Maruti Swift 1.3 VXi  2010         215000      70000  Petrol   \n",
              "647   Maruti Swift 1.3 VXi  2006         140000      65000  Petrol   \n",
              "1141  Maruti Swift 1.3 VXi  2008         240000      60000  Petrol   \n",
              "\n",
              "     seller_type transmission         owner mileage engine max_power torque  \\\n",
              "12    Individual       Manual  Second Owner     NaN    NaN       NaN    NaN   \n",
              "197   Individual       Manual  Second Owner     NaN    NaN       NaN    NaN   \n",
              "267   Individual       Manual  Second Owner     NaN    NaN       NaN    NaN   \n",
              "647   Individual       Manual   Third Owner     NaN    NaN       NaN    NaN   \n",
              "1141  Individual       Manual   First Owner     NaN    NaN       NaN    NaN   \n",
              "\n",
              "      seats  \n",
              "12      NaN  \n",
              "197     NaN  \n",
              "267     NaN  \n",
              "647     NaN  \n",
              "1141    NaN  "
            ],
            "text/html": [
              "\n",
              "  <div id=\"df-13e21924-7bcb-475c-a0ca-59c3e4d3b96c\">\n",
              "    <div class=\"colab-df-container\">\n",
              "      <div>\n",
              "<style scoped>\n",
              "    .dataframe tbody tr th:only-of-type {\n",
              "        vertical-align: middle;\n",
              "    }\n",
              "\n",
              "    .dataframe tbody tr th {\n",
              "        vertical-align: top;\n",
              "    }\n",
              "\n",
              "    .dataframe thead th {\n",
              "        text-align: right;\n",
              "    }\n",
              "</style>\n",
              "<table border=\"1\" class=\"dataframe\">\n",
              "  <thead>\n",
              "    <tr style=\"text-align: right;\">\n",
              "      <th></th>\n",
              "      <th>name</th>\n",
              "      <th>year</th>\n",
              "      <th>selling_price</th>\n",
              "      <th>km_driven</th>\n",
              "      <th>fuel</th>\n",
              "      <th>seller_type</th>\n",
              "      <th>transmission</th>\n",
              "      <th>owner</th>\n",
              "      <th>mileage</th>\n",
              "      <th>engine</th>\n",
              "      <th>max_power</th>\n",
              "      <th>torque</th>\n",
              "      <th>seats</th>\n",
              "    </tr>\n",
              "  </thead>\n",
              "  <tbody>\n",
              "    <tr>\n",
              "      <th>12</th>\n",
              "      <td>Maruti Swift 1.3 VXi</td>\n",
              "      <td>2007</td>\n",
              "      <td>200000</td>\n",
              "      <td>80000</td>\n",
              "      <td>Petrol</td>\n",
              "      <td>Individual</td>\n",
              "      <td>Manual</td>\n",
              "      <td>Second Owner</td>\n",
              "      <td>NaN</td>\n",
              "      <td>NaN</td>\n",
              "      <td>NaN</td>\n",
              "      <td>NaN</td>\n",
              "      <td>NaN</td>\n",
              "    </tr>\n",
              "    <tr>\n",
              "      <th>197</th>\n",
              "      <td>Maruti Swift 1.3 VXi</td>\n",
              "      <td>2008</td>\n",
              "      <td>130000</td>\n",
              "      <td>120000</td>\n",
              "      <td>Petrol</td>\n",
              "      <td>Individual</td>\n",
              "      <td>Manual</td>\n",
              "      <td>Second Owner</td>\n",
              "      <td>NaN</td>\n",
              "      <td>NaN</td>\n",
              "      <td>NaN</td>\n",
              "      <td>NaN</td>\n",
              "      <td>NaN</td>\n",
              "    </tr>\n",
              "    <tr>\n",
              "      <th>267</th>\n",
              "      <td>Maruti Swift 1.3 VXi</td>\n",
              "      <td>2010</td>\n",
              "      <td>215000</td>\n",
              "      <td>70000</td>\n",
              "      <td>Petrol</td>\n",
              "      <td>Individual</td>\n",
              "      <td>Manual</td>\n",
              "      <td>Second Owner</td>\n",
              "      <td>NaN</td>\n",
              "      <td>NaN</td>\n",
              "      <td>NaN</td>\n",
              "      <td>NaN</td>\n",
              "      <td>NaN</td>\n",
              "    </tr>\n",
              "    <tr>\n",
              "      <th>647</th>\n",
              "      <td>Maruti Swift 1.3 VXi</td>\n",
              "      <td>2006</td>\n",
              "      <td>140000</td>\n",
              "      <td>65000</td>\n",
              "      <td>Petrol</td>\n",
              "      <td>Individual</td>\n",
              "      <td>Manual</td>\n",
              "      <td>Third Owner</td>\n",
              "      <td>NaN</td>\n",
              "      <td>NaN</td>\n",
              "      <td>NaN</td>\n",
              "      <td>NaN</td>\n",
              "      <td>NaN</td>\n",
              "    </tr>\n",
              "    <tr>\n",
              "      <th>1141</th>\n",
              "      <td>Maruti Swift 1.3 VXi</td>\n",
              "      <td>2008</td>\n",
              "      <td>240000</td>\n",
              "      <td>60000</td>\n",
              "      <td>Petrol</td>\n",
              "      <td>Individual</td>\n",
              "      <td>Manual</td>\n",
              "      <td>First Owner</td>\n",
              "      <td>NaN</td>\n",
              "      <td>NaN</td>\n",
              "      <td>NaN</td>\n",
              "      <td>NaN</td>\n",
              "      <td>NaN</td>\n",
              "    </tr>\n",
              "  </tbody>\n",
              "</table>\n",
              "</div>\n",
              "      <button class=\"colab-df-convert\" onclick=\"convertToInteractive('df-13e21924-7bcb-475c-a0ca-59c3e4d3b96c')\"\n",
              "              title=\"Convert this dataframe to an interactive table.\"\n",
              "              style=\"display:none;\">\n",
              "        \n",
              "  <svg xmlns=\"http://www.w3.org/2000/svg\" height=\"24px\"viewBox=\"0 0 24 24\"\n",
              "       width=\"24px\">\n",
              "    <path d=\"M0 0h24v24H0V0z\" fill=\"none\"/>\n",
              "    <path d=\"M18.56 5.44l.94 2.06.94-2.06 2.06-.94-2.06-.94-.94-2.06-.94 2.06-2.06.94zm-11 1L8.5 8.5l.94-2.06 2.06-.94-2.06-.94L8.5 2.5l-.94 2.06-2.06.94zm10 10l.94 2.06.94-2.06 2.06-.94-2.06-.94-.94-2.06-.94 2.06-2.06.94z\"/><path d=\"M17.41 7.96l-1.37-1.37c-.4-.4-.92-.59-1.43-.59-.52 0-1.04.2-1.43.59L10.3 9.45l-7.72 7.72c-.78.78-.78 2.05 0 2.83L4 21.41c.39.39.9.59 1.41.59.51 0 1.02-.2 1.41-.59l7.78-7.78 2.81-2.81c.8-.78.8-2.07 0-2.86zM5.41 20L4 18.59l7.72-7.72 1.47 1.35L5.41 20z\"/>\n",
              "  </svg>\n",
              "      </button>\n",
              "      \n",
              "  <style>\n",
              "    .colab-df-container {\n",
              "      display:flex;\n",
              "      flex-wrap:wrap;\n",
              "      gap: 12px;\n",
              "    }\n",
              "\n",
              "    .colab-df-convert {\n",
              "      background-color: #E8F0FE;\n",
              "      border: none;\n",
              "      border-radius: 50%;\n",
              "      cursor: pointer;\n",
              "      display: none;\n",
              "      fill: #1967D2;\n",
              "      height: 32px;\n",
              "      padding: 0 0 0 0;\n",
              "      width: 32px;\n",
              "    }\n",
              "\n",
              "    .colab-df-convert:hover {\n",
              "      background-color: #E2EBFA;\n",
              "      box-shadow: 0px 1px 2px rgba(60, 64, 67, 0.3), 0px 1px 3px 1px rgba(60, 64, 67, 0.15);\n",
              "      fill: #174EA6;\n",
              "    }\n",
              "\n",
              "    [theme=dark] .colab-df-convert {\n",
              "      background-color: #3B4455;\n",
              "      fill: #D2E3FC;\n",
              "    }\n",
              "\n",
              "    [theme=dark] .colab-df-convert:hover {\n",
              "      background-color: #434B5C;\n",
              "      box-shadow: 0px 1px 3px 1px rgba(0, 0, 0, 0.15);\n",
              "      filter: drop-shadow(0px 1px 2px rgba(0, 0, 0, 0.3));\n",
              "      fill: #FFFFFF;\n",
              "    }\n",
              "  </style>\n",
              "\n",
              "      <script>\n",
              "        const buttonEl =\n",
              "          document.querySelector('#df-13e21924-7bcb-475c-a0ca-59c3e4d3b96c button.colab-df-convert');\n",
              "        buttonEl.style.display =\n",
              "          google.colab.kernel.accessAllowed ? 'block' : 'none';\n",
              "\n",
              "        async function convertToInteractive(key) {\n",
              "          const element = document.querySelector('#df-13e21924-7bcb-475c-a0ca-59c3e4d3b96c');\n",
              "          const dataTable =\n",
              "            await google.colab.kernel.invokeFunction('convertToInteractive',\n",
              "                                                     [key], {});\n",
              "          if (!dataTable) return;\n",
              "\n",
              "          const docLinkHtml = 'Like what you see? Visit the ' +\n",
              "            '<a target=\"_blank\" href=https://colab.research.google.com/notebooks/data_table.ipynb>data table notebook</a>'\n",
              "            + ' to learn more about interactive tables.';\n",
              "          element.innerHTML = '';\n",
              "          dataTable['output_type'] = 'display_data';\n",
              "          await google.colab.output.renderOutput(dataTable, element);\n",
              "          const docLink = document.createElement('div');\n",
              "          docLink.innerHTML = docLinkHtml;\n",
              "          element.appendChild(docLink);\n",
              "        }\n",
              "      </script>\n",
              "    </div>\n",
              "  </div>\n",
              "  "
            ]
          },
          "metadata": {},
          "execution_count": 8
        }
      ]
    },
    {
      "cell_type": "code",
      "source": [
        "df[df['name']=='Tata Indica DLS'].head()"
      ],
      "metadata": {
        "colab": {
          "base_uri": "https://localhost:8080/",
          "height": 461
        },
        "id": "mqiQDh5hfKaa",
        "outputId": "02783971-09e6-404d-8ab9-7c93401059ba"
      },
      "execution_count": 9,
      "outputs": [
        {
          "output_type": "execute_result",
          "data": {
            "text/plain": [
              "                 name  year  selling_price  km_driven    fuel seller_type  \\\n",
              "69    Tata Indica DLS  2003          50000      70000  Diesel  Individual   \n",
              "220   Tata Indica DLS  2005          75000     110000  Diesel  Individual   \n",
              "3135  Tata Indica DLS  2005          95000      50000  Diesel  Individual   \n",
              "4670  Tata Indica DLS  2006         170000      77000  Diesel  Individual   \n",
              "6261  Tata Indica DLS  2005          60000     100000  Diesel  Individual   \n",
              "\n",
              "     transmission                 owner mileage engine max_power torque  seats  \n",
              "69         Manual           First Owner     NaN    NaN       NaN    NaN    NaN  \n",
              "220        Manual          Second Owner     NaN    NaN       NaN    NaN    NaN  \n",
              "3135       Manual          Second Owner     NaN    NaN       NaN    NaN    NaN  \n",
              "4670       Manual           First Owner     NaN    NaN       NaN    NaN    NaN  \n",
              "6261       Manual  Fourth & Above Owner     NaN    NaN       NaN    NaN    NaN  "
            ],
            "text/html": [
              "\n",
              "  <div id=\"df-67edc644-6232-4b3d-994a-8b77921b03d5\">\n",
              "    <div class=\"colab-df-container\">\n",
              "      <div>\n",
              "<style scoped>\n",
              "    .dataframe tbody tr th:only-of-type {\n",
              "        vertical-align: middle;\n",
              "    }\n",
              "\n",
              "    .dataframe tbody tr th {\n",
              "        vertical-align: top;\n",
              "    }\n",
              "\n",
              "    .dataframe thead th {\n",
              "        text-align: right;\n",
              "    }\n",
              "</style>\n",
              "<table border=\"1\" class=\"dataframe\">\n",
              "  <thead>\n",
              "    <tr style=\"text-align: right;\">\n",
              "      <th></th>\n",
              "      <th>name</th>\n",
              "      <th>year</th>\n",
              "      <th>selling_price</th>\n",
              "      <th>km_driven</th>\n",
              "      <th>fuel</th>\n",
              "      <th>seller_type</th>\n",
              "      <th>transmission</th>\n",
              "      <th>owner</th>\n",
              "      <th>mileage</th>\n",
              "      <th>engine</th>\n",
              "      <th>max_power</th>\n",
              "      <th>torque</th>\n",
              "      <th>seats</th>\n",
              "    </tr>\n",
              "  </thead>\n",
              "  <tbody>\n",
              "    <tr>\n",
              "      <th>69</th>\n",
              "      <td>Tata Indica DLS</td>\n",
              "      <td>2003</td>\n",
              "      <td>50000</td>\n",
              "      <td>70000</td>\n",
              "      <td>Diesel</td>\n",
              "      <td>Individual</td>\n",
              "      <td>Manual</td>\n",
              "      <td>First Owner</td>\n",
              "      <td>NaN</td>\n",
              "      <td>NaN</td>\n",
              "      <td>NaN</td>\n",
              "      <td>NaN</td>\n",
              "      <td>NaN</td>\n",
              "    </tr>\n",
              "    <tr>\n",
              "      <th>220</th>\n",
              "      <td>Tata Indica DLS</td>\n",
              "      <td>2005</td>\n",
              "      <td>75000</td>\n",
              "      <td>110000</td>\n",
              "      <td>Diesel</td>\n",
              "      <td>Individual</td>\n",
              "      <td>Manual</td>\n",
              "      <td>Second Owner</td>\n",
              "      <td>NaN</td>\n",
              "      <td>NaN</td>\n",
              "      <td>NaN</td>\n",
              "      <td>NaN</td>\n",
              "      <td>NaN</td>\n",
              "    </tr>\n",
              "    <tr>\n",
              "      <th>3135</th>\n",
              "      <td>Tata Indica DLS</td>\n",
              "      <td>2005</td>\n",
              "      <td>95000</td>\n",
              "      <td>50000</td>\n",
              "      <td>Diesel</td>\n",
              "      <td>Individual</td>\n",
              "      <td>Manual</td>\n",
              "      <td>Second Owner</td>\n",
              "      <td>NaN</td>\n",
              "      <td>NaN</td>\n",
              "      <td>NaN</td>\n",
              "      <td>NaN</td>\n",
              "      <td>NaN</td>\n",
              "    </tr>\n",
              "    <tr>\n",
              "      <th>4670</th>\n",
              "      <td>Tata Indica DLS</td>\n",
              "      <td>2006</td>\n",
              "      <td>170000</td>\n",
              "      <td>77000</td>\n",
              "      <td>Diesel</td>\n",
              "      <td>Individual</td>\n",
              "      <td>Manual</td>\n",
              "      <td>First Owner</td>\n",
              "      <td>NaN</td>\n",
              "      <td>NaN</td>\n",
              "      <td>NaN</td>\n",
              "      <td>NaN</td>\n",
              "      <td>NaN</td>\n",
              "    </tr>\n",
              "    <tr>\n",
              "      <th>6261</th>\n",
              "      <td>Tata Indica DLS</td>\n",
              "      <td>2005</td>\n",
              "      <td>60000</td>\n",
              "      <td>100000</td>\n",
              "      <td>Diesel</td>\n",
              "      <td>Individual</td>\n",
              "      <td>Manual</td>\n",
              "      <td>Fourth &amp; Above Owner</td>\n",
              "      <td>NaN</td>\n",
              "      <td>NaN</td>\n",
              "      <td>NaN</td>\n",
              "      <td>NaN</td>\n",
              "      <td>NaN</td>\n",
              "    </tr>\n",
              "  </tbody>\n",
              "</table>\n",
              "</div>\n",
              "      <button class=\"colab-df-convert\" onclick=\"convertToInteractive('df-67edc644-6232-4b3d-994a-8b77921b03d5')\"\n",
              "              title=\"Convert this dataframe to an interactive table.\"\n",
              "              style=\"display:none;\">\n",
              "        \n",
              "  <svg xmlns=\"http://www.w3.org/2000/svg\" height=\"24px\"viewBox=\"0 0 24 24\"\n",
              "       width=\"24px\">\n",
              "    <path d=\"M0 0h24v24H0V0z\" fill=\"none\"/>\n",
              "    <path d=\"M18.56 5.44l.94 2.06.94-2.06 2.06-.94-2.06-.94-.94-2.06-.94 2.06-2.06.94zm-11 1L8.5 8.5l.94-2.06 2.06-.94-2.06-.94L8.5 2.5l-.94 2.06-2.06.94zm10 10l.94 2.06.94-2.06 2.06-.94-2.06-.94-.94-2.06-.94 2.06-2.06.94z\"/><path d=\"M17.41 7.96l-1.37-1.37c-.4-.4-.92-.59-1.43-.59-.52 0-1.04.2-1.43.59L10.3 9.45l-7.72 7.72c-.78.78-.78 2.05 0 2.83L4 21.41c.39.39.9.59 1.41.59.51 0 1.02-.2 1.41-.59l7.78-7.78 2.81-2.81c.8-.78.8-2.07 0-2.86zM5.41 20L4 18.59l7.72-7.72 1.47 1.35L5.41 20z\"/>\n",
              "  </svg>\n",
              "      </button>\n",
              "      \n",
              "  <style>\n",
              "    .colab-df-container {\n",
              "      display:flex;\n",
              "      flex-wrap:wrap;\n",
              "      gap: 12px;\n",
              "    }\n",
              "\n",
              "    .colab-df-convert {\n",
              "      background-color: #E8F0FE;\n",
              "      border: none;\n",
              "      border-radius: 50%;\n",
              "      cursor: pointer;\n",
              "      display: none;\n",
              "      fill: #1967D2;\n",
              "      height: 32px;\n",
              "      padding: 0 0 0 0;\n",
              "      width: 32px;\n",
              "    }\n",
              "\n",
              "    .colab-df-convert:hover {\n",
              "      background-color: #E2EBFA;\n",
              "      box-shadow: 0px 1px 2px rgba(60, 64, 67, 0.3), 0px 1px 3px 1px rgba(60, 64, 67, 0.15);\n",
              "      fill: #174EA6;\n",
              "    }\n",
              "\n",
              "    [theme=dark] .colab-df-convert {\n",
              "      background-color: #3B4455;\n",
              "      fill: #D2E3FC;\n",
              "    }\n",
              "\n",
              "    [theme=dark] .colab-df-convert:hover {\n",
              "      background-color: #434B5C;\n",
              "      box-shadow: 0px 1px 3px 1px rgba(0, 0, 0, 0.15);\n",
              "      filter: drop-shadow(0px 1px 2px rgba(0, 0, 0, 0.3));\n",
              "      fill: #FFFFFF;\n",
              "    }\n",
              "  </style>\n",
              "\n",
              "      <script>\n",
              "        const buttonEl =\n",
              "          document.querySelector('#df-67edc644-6232-4b3d-994a-8b77921b03d5 button.colab-df-convert');\n",
              "        buttonEl.style.display =\n",
              "          google.colab.kernel.accessAllowed ? 'block' : 'none';\n",
              "\n",
              "        async function convertToInteractive(key) {\n",
              "          const element = document.querySelector('#df-67edc644-6232-4b3d-994a-8b77921b03d5');\n",
              "          const dataTable =\n",
              "            await google.colab.kernel.invokeFunction('convertToInteractive',\n",
              "                                                     [key], {});\n",
              "          if (!dataTable) return;\n",
              "\n",
              "          const docLinkHtml = 'Like what you see? Visit the ' +\n",
              "            '<a target=\"_blank\" href=https://colab.research.google.com/notebooks/data_table.ipynb>data table notebook</a>'\n",
              "            + ' to learn more about interactive tables.';\n",
              "          element.innerHTML = '';\n",
              "          dataTable['output_type'] = 'display_data';\n",
              "          await google.colab.output.renderOutput(dataTable, element);\n",
              "          const docLink = document.createElement('div');\n",
              "          docLink.innerHTML = docLinkHtml;\n",
              "          element.appendChild(docLink);\n",
              "        }\n",
              "      </script>\n",
              "    </div>\n",
              "  </div>\n",
              "  "
            ]
          },
          "metadata": {},
          "execution_count": 9
        }
      ]
    },
    {
      "cell_type": "markdown",
      "source": [
        "Как видно, почти везде там где есть пропуск у обьекта в одном из столбцов с пропусками, пусто и в других проблемных столбцах, и чаще это в рамках одной модели. Поэтому, чтобы не заполнять много пустоты у обьектов по сути одной модели, и потому как пропуски почти построчно и таких строк немного, можно просто удалить строки с пустотами."
      ],
      "metadata": {
        "id": "b5K0EdsSe3du"
      }
    },
    {
      "cell_type": "code",
      "source": [
        "df = df[df['mileage'].isna()==False]"
      ],
      "metadata": {
        "id": "dBP1_EAVfuUA"
      },
      "execution_count": 10,
      "outputs": []
    },
    {
      "cell_type": "code",
      "source": [
        "df.info()"
      ],
      "metadata": {
        "colab": {
          "base_uri": "https://localhost:8080/"
        },
        "id": "NMy15KOFf4mx",
        "outputId": "7d05ff76-554d-42c9-a20b-433002f29686"
      },
      "execution_count": 11,
      "outputs": [
        {
          "output_type": "stream",
          "name": "stdout",
          "text": [
            "<class 'pandas.core.frame.DataFrame'>\n",
            "Int64Index: 6797 entries, 0 to 6998\n",
            "Data columns (total 13 columns):\n",
            " #   Column         Non-Null Count  Dtype  \n",
            "---  ------         --------------  -----  \n",
            " 0   name           6797 non-null   object \n",
            " 1   year           6797 non-null   int64  \n",
            " 2   selling_price  6797 non-null   int64  \n",
            " 3   km_driven      6797 non-null   int64  \n",
            " 4   fuel           6797 non-null   object \n",
            " 5   seller_type    6797 non-null   object \n",
            " 6   transmission   6797 non-null   object \n",
            " 7   owner          6797 non-null   object \n",
            " 8   mileage        6797 non-null   object \n",
            " 9   engine         6797 non-null   object \n",
            " 10  max_power      6797 non-null   object \n",
            " 11  torque         6796 non-null   object \n",
            " 12  seats          6797 non-null   float64\n",
            "dtypes: float64(1), int64(3), object(9)\n",
            "memory usage: 743.4+ KB\n"
          ]
        }
      ]
    },
    {
      "cell_type": "markdown",
      "source": [
        "Всего 202 строчки убрали из 7000, это около 3% от датафрейма, что не страшно. Теперь переводы единиц у столбцов. А также нужен сброс индексов."
      ],
      "metadata": {
        "id": "3GgkTeeMgYss"
      }
    },
    {
      "cell_type": "code",
      "source": [
        "df = df.reset_index(drop=True)"
      ],
      "metadata": {
        "id": "0gLLM7fnltgU"
      },
      "execution_count": 12,
      "outputs": []
    },
    {
      "cell_type": "code",
      "source": [
        "df['torque-N/m'] = df['torque']\n",
        "df['torque-RPM'] = df['torque']\n",
        "df = df.drop('torque', axis=1)\n",
        "\n",
        "df['torque-N/m'] = df['torque-N/m'].fillna('0 0')\n",
        "df['torque-RPM'] = df['torque-RPM'].fillna('0 0')\n"
      ],
      "metadata": {
        "id": "WGoiIbahnVRW"
      },
      "execution_count": 13,
      "outputs": []
    },
    {
      "cell_type": "code",
      "source": [
        "for i in range(len(df)):\n",
        "  df.loc[i,'mileage'] = float(df.loc[i,'mileage'].split(' ')[0])\n",
        "  df.loc[i,'engine'] = int(df.loc[i,'engine'].split(' ')[0])\n",
        "  if len(df.loc[i,'max_power']) < 3:\n",
        "    df.loc[i,'max_power'] = float(df.loc[i,'max_power'])\n",
        "  else:\n",
        "    if df.loc[i,'max_power'].split(' ')[0] == '':\n",
        "      df.loc[i,'max_power'] = 0.0\n",
        "    else:\n",
        "      df.loc[i,'max_power'] = float(df.loc[i,'max_power'].split(' ')[0])\n",
        "  df.loc[i,'seats'] = int(df.loc[i,'seats'])\n",
        "\n"
      ],
      "metadata": {
        "id": "V1zmcfjWhr2W"
      },
      "execution_count": 14,
      "outputs": []
    },
    {
      "cell_type": "markdown",
      "source": [
        "Далее перевод единиц связанных с крутящим моментом"
      ],
      "metadata": {
        "id": "olS5dqp9k11E"
      }
    },
    {
      "cell_type": "code",
      "source": [
        "def v(txt):\n",
        "  ch=0\n",
        "  if 'n' in txt:\n",
        "    ind = txt.find('n')\n",
        "    ch = float(txt[:ind])\n",
        "  elif 'N' in txt:\n",
        "    ind = txt.find('N')\n",
        "    ch = float(txt[:ind])\n",
        "  elif 'k' in txt:\n",
        "    ind = txt.find('k')\n",
        "    ch = float(txt[:ind])\n",
        "  elif 'K' in txt:\n",
        "    ind = txt.find('K')\n",
        "    ch = float(txt[:ind])\n",
        "  elif '@' in txt:\n",
        "    ind = txt.find('@')\n",
        "    ch = float(txt[:ind])\n",
        "  else:\n",
        "    ch = float(txt)\n",
        "  return ch\n",
        "\n",
        "ls_kg = []\n",
        "ls_nm = []\n",
        "\n",
        "for i in range(len(df)):\n",
        "  sp = df.loc[i,'torque-N/m'].split(' ')\n",
        "  b = sp[0]\n",
        "  elid=0\n",
        "  for el in sp:\n",
        "    if 'n' in el:\n",
        "      df.loc[i,'torque-N/m'] = v(b)\n",
        "      break\n",
        "    elif 'N' in el:\n",
        "      df.loc[i,'torque-N/m'] = v(b)\n",
        "      break\n",
        "    elif 'k' in el:\n",
        "      df.loc[i,'torque-N/m'] = v(b) * 9.80665\n",
        "      break\n",
        "    elif 'K' in el:\n",
        "      df.loc[i,'torque-N/m'] = v(b) * 9.80665\n",
        "      break\n",
        "    elid +=1\n",
        "  if elid == len(sp):\n",
        "    df.loc[i,'torque-N/m'] = v(b)"
      ],
      "metadata": {
        "id": "wc6DVXue3oLI"
      },
      "execution_count": 15,
      "outputs": []
    },
    {
      "cell_type": "code",
      "source": [
        "for i in range(len(df)):\n",
        "  if len(df.loc[i,'torque-RPM'].split(' ')) == 1:\n",
        "    df.loc[i,'torque-RPM'] = '0'\n",
        "  elif len(df.loc[i,'torque-RPM'].split(' ')) == 2:\n",
        "    df.loc[i,'torque-RPM'] = df.loc[i,'torque-RPM'].split(' ')[1]\n",
        "  elif len(df.loc[i,'torque-RPM'].split(' ')) == 3:\n",
        "    if df.loc[i,'torque-RPM'].split(' ')[1] == '/':\n",
        "      df.loc[i,'torque-RPM'] = df.loc[i,'torque-RPM'].split(' ')[2]\n",
        "    else:\n",
        "      df.loc[i,'torque-RPM'] = df.loc[i,'torque-RPM'].split(' ')[1]\n",
        "  elif len(df.loc[i,'torque-RPM'].split(' ')) == 4:\n",
        "    if df.loc[i,'torque-RPM'].split(' ')[3] == 'rpm':\n",
        "      df.loc[i,'torque-RPM'] = df.loc[i,'torque-RPM'].split(' ')[2]\n",
        "    else:\n",
        "      df.loc[i,'torque-RPM'] = df.loc[i,'torque-RPM'].split(' ')[3]\n",
        "  else:\n",
        "    df.loc[i,'torque-RPM'] = df.loc[i,'torque-RPM'].split(' ')[3]"
      ],
      "metadata": {
        "id": "KhXFXo8H2vzZ"
      },
      "execution_count": 16,
      "outputs": []
    },
    {
      "cell_type": "code",
      "source": [
        "for i in range(len(df)):\n",
        "  if '-' in df.loc[i,'torque-RPM'] and 'r' in df.loc[i,'torque-RPM']:\n",
        "    ind1 = df.loc[i,'torque-RPM'].find('-')\n",
        "    ind2 = df.loc[i,'torque-RPM'].find('r')\n",
        "    df.loc[i,'torque-RPM'] = df.loc[i,'torque-RPM'][ind1+1:ind2]\n",
        "  elif 'r' in df.loc[i,'torque-RPM']:\n",
        "    ind = df.loc[i,'torque-RPM'].find('r')\n",
        "    df.loc[i,'torque-RPM'] = df.loc[i,'torque-RPM'][:ind]\n",
        "  elif '(' in df.loc[i,'torque-RPM']:\n",
        "    ind = df.loc[i,'torque-RPM'].find('(')\n",
        "    ch = df.loc[i,'torque-RPM'][:ind].split(',')\n",
        "    df.loc[i,'torque-RPM'] = ''.join(ch)\n",
        "  elif ',' in df.loc[i,'torque-RPM']:\n",
        "    ch = df.loc[i,'torque-RPM'].split(',')\n",
        "    df.loc[i,'torque-RPM'] = ''.join(ch)\n",
        "  elif '-' in df.loc[i,'torque-RPM']:\n",
        "    ind = df.loc[i,'torque-RPM'].find('-')\n",
        "    df.loc[i,'torque-RPM'] = df.loc[i,'torque-RPM'][ind+1:]\n",
        "  elif '~' in df.loc[i,'torque-RPM']:\n",
        "    ind = df.loc[i,'torque-RPM'].find('~')\n",
        "    df.loc[i,'torque-RPM'] = df.loc[i,'torque-RPM'][ind+1:]\n",
        "  elif '/' in df.loc[i,'torque-RPM']:\n",
        "    ind = df.loc[i,'torque-RPM'].find('/')\n",
        "    df.loc[i,'torque-RPM'] = df.loc[i,'torque-RPM'][ind+1:]\n",
        "for i in range(len(df)):\n",
        "  if '~' in df.loc[i,'torque-RPM']:\n",
        "    ind = df.loc[i,'torque-RPM'].find('~')\n",
        "    df.loc[i,'torque-RPM'] = df.loc[i,'torque-RPM'][ind+1:]\n",
        "  elif '-' in df.loc[i,'torque-RPM']:\n",
        "    ind = df.loc[i,'torque-RPM'].find('-')\n",
        "    df.loc[i,'torque-RPM'] = df.loc[i,'torque-RPM'][ind+1:]\n",
        "  elif ',' in df.loc[i,'torque-RPM']:\n",
        "    ch = df.loc[i,'torque-RPM'].split(',')\n",
        "    df.loc[i,'torque-RPM'] = ''.join(ch)"
      ],
      "metadata": {
        "id": "eBbFdFrgozCI"
      },
      "execution_count": 17,
      "outputs": []
    },
    {
      "cell_type": "code",
      "source": [
        "df['torque-N/m'] = df['torque-N/m'].astype(float)\n",
        "df['torque-RPM'] = df['torque-RPM'].astype(int)\n",
        "df['mileage'] = df['mileage'].astype(float)\n",
        "df['engine'] = df['engine'].astype(int)\n",
        "df['max_power'] = df['max_power'].astype(float)\n",
        "df['seats'] = df['seats'].astype(int)\n"
      ],
      "metadata": {
        "id": "N4Epe5hOneRY"
      },
      "execution_count": 18,
      "outputs": []
    },
    {
      "cell_type": "code",
      "source": [
        "df.info()"
      ],
      "metadata": {
        "colab": {
          "base_uri": "https://localhost:8080/"
        },
        "id": "mJGIAo_qIHw3",
        "outputId": "a5ccb683-33c0-4022-9955-7eb50e61ae1a"
      },
      "execution_count": 19,
      "outputs": [
        {
          "output_type": "stream",
          "name": "stdout",
          "text": [
            "<class 'pandas.core.frame.DataFrame'>\n",
            "RangeIndex: 6797 entries, 0 to 6796\n",
            "Data columns (total 14 columns):\n",
            " #   Column         Non-Null Count  Dtype  \n",
            "---  ------         --------------  -----  \n",
            " 0   name           6797 non-null   object \n",
            " 1   year           6797 non-null   int64  \n",
            " 2   selling_price  6797 non-null   int64  \n",
            " 3   km_driven      6797 non-null   int64  \n",
            " 4   fuel           6797 non-null   object \n",
            " 5   seller_type    6797 non-null   object \n",
            " 6   transmission   6797 non-null   object \n",
            " 7   owner          6797 non-null   object \n",
            " 8   mileage        6797 non-null   float64\n",
            " 9   engine         6797 non-null   int64  \n",
            " 10  max_power      6797 non-null   float64\n",
            " 11  seats          6797 non-null   int64  \n",
            " 12  torque-N/m     6797 non-null   float64\n",
            " 13  torque-RPM     6797 non-null   int64  \n",
            "dtypes: float64(3), int64(6), object(5)\n",
            "memory usage: 743.5+ KB\n"
          ]
        }
      ]
    },
    {
      "cell_type": "code",
      "source": [
        "df.sample(5)"
      ],
      "metadata": {
        "colab": {
          "base_uri": "https://localhost:8080/",
          "height": 461
        },
        "id": "Pi5pxyKPfWMz",
        "outputId": "a676ff3c-9a80-4df3-9c63-d5234af3905b"
      },
      "execution_count": 20,
      "outputs": [
        {
          "output_type": "execute_result",
          "data": {
            "text/plain": [
              "                             name  year  selling_price  km_driven    fuel  \\\n",
              "2953  Mitsubishi Pajero Sport 4X4  2015        1700000      39000  Diesel   \n",
              "4495              Maruti Ritz VDi  2013         390000      77000  Diesel   \n",
              "3968       Hyundai Grand i10 Asta  2015         484999      55380  Petrol   \n",
              "2505     Tata Indica Vista TDI LX  2011         210000     120000  Diesel   \n",
              "3503   BMW X4 M Sport X xDrive20d  2019        5400000       7500  Diesel   \n",
              "\n",
              "     seller_type transmission        owner  mileage  engine  max_power  seats  \\\n",
              "2953  Individual       Manual  First Owner    13.50    2477     175.56      7   \n",
              "4495      Dealer       Manual  First Owner    21.10    1248      73.90      5   \n",
              "3968      Dealer       Manual  First Owner    18.90    1197      82.00      5   \n",
              "2505  Individual       Manual  First Owner    19.40    1405      70.00      5   \n",
              "3503      Dealer    Automatic  First Owner    16.78    1995     190.00      5   \n",
              "\n",
              "      torque-N/m  torque-RPM  \n",
              "2953       400.0        2500  \n",
              "4495       113.0        4500  \n",
              "3968       114.0        4000  \n",
              "2505       135.4        2500  \n",
              "3503       400.0        2500  "
            ],
            "text/html": [
              "\n",
              "  <div id=\"df-81cf899a-c689-485d-8f69-f4ae4d1d203a\">\n",
              "    <div class=\"colab-df-container\">\n",
              "      <div>\n",
              "<style scoped>\n",
              "    .dataframe tbody tr th:only-of-type {\n",
              "        vertical-align: middle;\n",
              "    }\n",
              "\n",
              "    .dataframe tbody tr th {\n",
              "        vertical-align: top;\n",
              "    }\n",
              "\n",
              "    .dataframe thead th {\n",
              "        text-align: right;\n",
              "    }\n",
              "</style>\n",
              "<table border=\"1\" class=\"dataframe\">\n",
              "  <thead>\n",
              "    <tr style=\"text-align: right;\">\n",
              "      <th></th>\n",
              "      <th>name</th>\n",
              "      <th>year</th>\n",
              "      <th>selling_price</th>\n",
              "      <th>km_driven</th>\n",
              "      <th>fuel</th>\n",
              "      <th>seller_type</th>\n",
              "      <th>transmission</th>\n",
              "      <th>owner</th>\n",
              "      <th>mileage</th>\n",
              "      <th>engine</th>\n",
              "      <th>max_power</th>\n",
              "      <th>seats</th>\n",
              "      <th>torque-N/m</th>\n",
              "      <th>torque-RPM</th>\n",
              "    </tr>\n",
              "  </thead>\n",
              "  <tbody>\n",
              "    <tr>\n",
              "      <th>2953</th>\n",
              "      <td>Mitsubishi Pajero Sport 4X4</td>\n",
              "      <td>2015</td>\n",
              "      <td>1700000</td>\n",
              "      <td>39000</td>\n",
              "      <td>Diesel</td>\n",
              "      <td>Individual</td>\n",
              "      <td>Manual</td>\n",
              "      <td>First Owner</td>\n",
              "      <td>13.50</td>\n",
              "      <td>2477</td>\n",
              "      <td>175.56</td>\n",
              "      <td>7</td>\n",
              "      <td>400.0</td>\n",
              "      <td>2500</td>\n",
              "    </tr>\n",
              "    <tr>\n",
              "      <th>4495</th>\n",
              "      <td>Maruti Ritz VDi</td>\n",
              "      <td>2013</td>\n",
              "      <td>390000</td>\n",
              "      <td>77000</td>\n",
              "      <td>Diesel</td>\n",
              "      <td>Dealer</td>\n",
              "      <td>Manual</td>\n",
              "      <td>First Owner</td>\n",
              "      <td>21.10</td>\n",
              "      <td>1248</td>\n",
              "      <td>73.90</td>\n",
              "      <td>5</td>\n",
              "      <td>113.0</td>\n",
              "      <td>4500</td>\n",
              "    </tr>\n",
              "    <tr>\n",
              "      <th>3968</th>\n",
              "      <td>Hyundai Grand i10 Asta</td>\n",
              "      <td>2015</td>\n",
              "      <td>484999</td>\n",
              "      <td>55380</td>\n",
              "      <td>Petrol</td>\n",
              "      <td>Dealer</td>\n",
              "      <td>Manual</td>\n",
              "      <td>First Owner</td>\n",
              "      <td>18.90</td>\n",
              "      <td>1197</td>\n",
              "      <td>82.00</td>\n",
              "      <td>5</td>\n",
              "      <td>114.0</td>\n",
              "      <td>4000</td>\n",
              "    </tr>\n",
              "    <tr>\n",
              "      <th>2505</th>\n",
              "      <td>Tata Indica Vista TDI LX</td>\n",
              "      <td>2011</td>\n",
              "      <td>210000</td>\n",
              "      <td>120000</td>\n",
              "      <td>Diesel</td>\n",
              "      <td>Individual</td>\n",
              "      <td>Manual</td>\n",
              "      <td>First Owner</td>\n",
              "      <td>19.40</td>\n",
              "      <td>1405</td>\n",
              "      <td>70.00</td>\n",
              "      <td>5</td>\n",
              "      <td>135.4</td>\n",
              "      <td>2500</td>\n",
              "    </tr>\n",
              "    <tr>\n",
              "      <th>3503</th>\n",
              "      <td>BMW X4 M Sport X xDrive20d</td>\n",
              "      <td>2019</td>\n",
              "      <td>5400000</td>\n",
              "      <td>7500</td>\n",
              "      <td>Diesel</td>\n",
              "      <td>Dealer</td>\n",
              "      <td>Automatic</td>\n",
              "      <td>First Owner</td>\n",
              "      <td>16.78</td>\n",
              "      <td>1995</td>\n",
              "      <td>190.00</td>\n",
              "      <td>5</td>\n",
              "      <td>400.0</td>\n",
              "      <td>2500</td>\n",
              "    </tr>\n",
              "  </tbody>\n",
              "</table>\n",
              "</div>\n",
              "      <button class=\"colab-df-convert\" onclick=\"convertToInteractive('df-81cf899a-c689-485d-8f69-f4ae4d1d203a')\"\n",
              "              title=\"Convert this dataframe to an interactive table.\"\n",
              "              style=\"display:none;\">\n",
              "        \n",
              "  <svg xmlns=\"http://www.w3.org/2000/svg\" height=\"24px\"viewBox=\"0 0 24 24\"\n",
              "       width=\"24px\">\n",
              "    <path d=\"M0 0h24v24H0V0z\" fill=\"none\"/>\n",
              "    <path d=\"M18.56 5.44l.94 2.06.94-2.06 2.06-.94-2.06-.94-.94-2.06-.94 2.06-2.06.94zm-11 1L8.5 8.5l.94-2.06 2.06-.94-2.06-.94L8.5 2.5l-.94 2.06-2.06.94zm10 10l.94 2.06.94-2.06 2.06-.94-2.06-.94-.94-2.06-.94 2.06-2.06.94z\"/><path d=\"M17.41 7.96l-1.37-1.37c-.4-.4-.92-.59-1.43-.59-.52 0-1.04.2-1.43.59L10.3 9.45l-7.72 7.72c-.78.78-.78 2.05 0 2.83L4 21.41c.39.39.9.59 1.41.59.51 0 1.02-.2 1.41-.59l7.78-7.78 2.81-2.81c.8-.78.8-2.07 0-2.86zM5.41 20L4 18.59l7.72-7.72 1.47 1.35L5.41 20z\"/>\n",
              "  </svg>\n",
              "      </button>\n",
              "      \n",
              "  <style>\n",
              "    .colab-df-container {\n",
              "      display:flex;\n",
              "      flex-wrap:wrap;\n",
              "      gap: 12px;\n",
              "    }\n",
              "\n",
              "    .colab-df-convert {\n",
              "      background-color: #E8F0FE;\n",
              "      border: none;\n",
              "      border-radius: 50%;\n",
              "      cursor: pointer;\n",
              "      display: none;\n",
              "      fill: #1967D2;\n",
              "      height: 32px;\n",
              "      padding: 0 0 0 0;\n",
              "      width: 32px;\n",
              "    }\n",
              "\n",
              "    .colab-df-convert:hover {\n",
              "      background-color: #E2EBFA;\n",
              "      box-shadow: 0px 1px 2px rgba(60, 64, 67, 0.3), 0px 1px 3px 1px rgba(60, 64, 67, 0.15);\n",
              "      fill: #174EA6;\n",
              "    }\n",
              "\n",
              "    [theme=dark] .colab-df-convert {\n",
              "      background-color: #3B4455;\n",
              "      fill: #D2E3FC;\n",
              "    }\n",
              "\n",
              "    [theme=dark] .colab-df-convert:hover {\n",
              "      background-color: #434B5C;\n",
              "      box-shadow: 0px 1px 3px 1px rgba(0, 0, 0, 0.15);\n",
              "      filter: drop-shadow(0px 1px 2px rgba(0, 0, 0, 0.3));\n",
              "      fill: #FFFFFF;\n",
              "    }\n",
              "  </style>\n",
              "\n",
              "      <script>\n",
              "        const buttonEl =\n",
              "          document.querySelector('#df-81cf899a-c689-485d-8f69-f4ae4d1d203a button.colab-df-convert');\n",
              "        buttonEl.style.display =\n",
              "          google.colab.kernel.accessAllowed ? 'block' : 'none';\n",
              "\n",
              "        async function convertToInteractive(key) {\n",
              "          const element = document.querySelector('#df-81cf899a-c689-485d-8f69-f4ae4d1d203a');\n",
              "          const dataTable =\n",
              "            await google.colab.kernel.invokeFunction('convertToInteractive',\n",
              "                                                     [key], {});\n",
              "          if (!dataTable) return;\n",
              "\n",
              "          const docLinkHtml = 'Like what you see? Visit the ' +\n",
              "            '<a target=\"_blank\" href=https://colab.research.google.com/notebooks/data_table.ipynb>data table notebook</a>'\n",
              "            + ' to learn more about interactive tables.';\n",
              "          element.innerHTML = '';\n",
              "          dataTable['output_type'] = 'display_data';\n",
              "          await google.colab.output.renderOutput(dataTable, element);\n",
              "          const docLink = document.createElement('div');\n",
              "          docLink.innerHTML = docLinkHtml;\n",
              "          element.appendChild(docLink);\n",
              "        }\n",
              "      </script>\n",
              "    </div>\n",
              "  </div>\n",
              "  "
            ]
          },
          "metadata": {},
          "execution_count": 20
        }
      ]
    },
    {
      "cell_type": "markdown",
      "source": [
        "Численные типы данных переведены. В столбце крутящего момента, где были единицы кг\\м был также перевод в Н/м, а где число оборотов бралось максимальное значение, если даны два. Посмотрим на уникальные значения категориальных признаков."
      ],
      "metadata": {
        "id": "6GcT9OYwPTih"
      }
    },
    {
      "cell_type": "code",
      "source": [
        "df['fuel'].unique()"
      ],
      "metadata": {
        "colab": {
          "base_uri": "https://localhost:8080/"
        },
        "id": "cov8IfVYe9tc",
        "outputId": "df889249-3ea6-4395-86c2-b10ec31a84c5"
      },
      "execution_count": 21,
      "outputs": [
        {
          "output_type": "execute_result",
          "data": {
            "text/plain": [
              "array(['Diesel', 'Petrol', 'LPG', 'CNG'], dtype=object)"
            ]
          },
          "metadata": {},
          "execution_count": 21
        }
      ]
    },
    {
      "cell_type": "code",
      "source": [
        "df['seller_type'].unique()"
      ],
      "metadata": {
        "colab": {
          "base_uri": "https://localhost:8080/"
        },
        "id": "gvbIdmwKPwKi",
        "outputId": "661acd76-bb46-4647-ebc6-8f886de5d099"
      },
      "execution_count": 22,
      "outputs": [
        {
          "output_type": "execute_result",
          "data": {
            "text/plain": [
              "array(['Individual', 'Dealer', 'Trustmark Dealer'], dtype=object)"
            ]
          },
          "metadata": {},
          "execution_count": 22
        }
      ]
    },
    {
      "cell_type": "code",
      "source": [
        "df['transmission'].unique()"
      ],
      "metadata": {
        "colab": {
          "base_uri": "https://localhost:8080/"
        },
        "id": "Eljkw9IRPxlN",
        "outputId": "91821fd9-65ec-4dc5-aae5-5ed01931efbd"
      },
      "execution_count": 23,
      "outputs": [
        {
          "output_type": "execute_result",
          "data": {
            "text/plain": [
              "array(['Manual', 'Automatic'], dtype=object)"
            ]
          },
          "metadata": {},
          "execution_count": 23
        }
      ]
    },
    {
      "cell_type": "code",
      "source": [
        "df['owner'].unique()"
      ],
      "metadata": {
        "colab": {
          "base_uri": "https://localhost:8080/"
        },
        "id": "8jarHmkXP2vb",
        "outputId": "da5250f0-1ee7-4471-975e-164cf9ffc66b"
      },
      "execution_count": 24,
      "outputs": [
        {
          "output_type": "execute_result",
          "data": {
            "text/plain": [
              "array(['First Owner', 'Second Owner', 'Third Owner',\n",
              "       'Fourth & Above Owner', 'Test Drive Car'], dtype=object)"
            ]
          },
          "metadata": {},
          "execution_count": 24
        }
      ]
    },
    {
      "cell_type": "markdown",
      "source": [
        "В целом все в порядке, но к признаке Владельцы есть вариант тест драйва. Посмотрим сколько таких объектов."
      ],
      "metadata": {
        "id": "2enG1T5OQJR9"
      }
    },
    {
      "cell_type": "code",
      "source": [
        "len(df[df['owner']=='Test Drive Car'])"
      ],
      "metadata": {
        "colab": {
          "base_uri": "https://localhost:8080/"
        },
        "id": "rNXvUNw3QUKD",
        "outputId": "94029be1-92a8-460a-d3ed-d3845fe538c6"
      },
      "execution_count": 25,
      "outputs": [
        {
          "output_type": "execute_result",
          "data": {
            "text/plain": [
              "4"
            ]
          },
          "metadata": {},
          "execution_count": 25
        }
      ]
    },
    {
      "cell_type": "markdown",
      "source": [
        "Таких объекта всего 4, значит их можно удалить, ведь и их мало, и нас интересуют только подержаные авто."
      ],
      "metadata": {
        "id": "c-AUNPqwdXNR"
      }
    },
    {
      "cell_type": "code",
      "source": [
        "df = df[df['owner']!='Test Drive Car']\n"
      ],
      "metadata": {
        "id": "Jnhb2D5ygQpG"
      },
      "execution_count": 26,
      "outputs": []
    },
    {
      "cell_type": "markdown",
      "source": [
        "Перед нумеризацие категориальных признаков давайте посмотрим на распределения числовых значений, а также корреляцию между ними."
      ],
      "metadata": {
        "id": "WuZoWTOkR6uy"
      }
    },
    {
      "cell_type": "code",
      "source": [
        "df.corr()"
      ],
      "metadata": {
        "colab": {
          "base_uri": "https://localhost:8080/",
          "height": 386
        },
        "id": "vhST9QBoSHm4",
        "outputId": "4e4972d8-d2c4-4bce-808e-5914ec59abd9"
      },
      "execution_count": 27,
      "outputs": [
        {
          "output_type": "stream",
          "name": "stderr",
          "text": [
            "<ipython-input-27-2f6f6606aa2c>:1: FutureWarning: The default value of numeric_only in DataFrame.corr is deprecated. In a future version, it will default to False. Select only valid columns or specify the value of numeric_only to silence this warning.\n",
            "  df.corr()\n"
          ]
        },
        {
          "output_type": "execute_result",
          "data": {
            "text/plain": [
              "                   year  selling_price  km_driven   mileage    engine  \\\n",
              "year           1.000000       0.411891  -0.423073  0.326652  0.019942   \n",
              "selling_price  0.411891       1.000000  -0.218223 -0.122045  0.457946   \n",
              "km_driven     -0.423073      -0.218223   1.000000 -0.162870  0.194509   \n",
              "mileage        0.326652      -0.122045  -0.162870  1.000000 -0.572204   \n",
              "engine         0.019942       0.457946   0.194509 -0.572204  1.000000   \n",
              "max_power      0.223262       0.749694  -0.042918 -0.370289  0.701474   \n",
              "seats         -0.009703       0.040353   0.216543 -0.449413  0.608553   \n",
              "torque-N/m     0.090390       0.497548   0.076748 -0.257899  0.618538   \n",
              "torque-RPM     0.065054      -0.081470  -0.196525 -0.172925 -0.202126   \n",
              "\n",
              "               max_power     seats  torque-N/m  torque-RPM  \n",
              "year            0.223262 -0.009703    0.090390    0.065054  \n",
              "selling_price   0.749694  0.040353    0.497548   -0.081470  \n",
              "km_driven      -0.042918  0.216543    0.076748   -0.196525  \n",
              "mileage        -0.370289 -0.449413   -0.257899   -0.172925  \n",
              "engine          0.701474  0.608553    0.618538   -0.202126  \n",
              "max_power       1.000000  0.183869    0.688750   -0.024126  \n",
              "seats           0.183869  1.000000    0.289888   -0.183765  \n",
              "torque-N/m      0.688750  0.289888    1.000000   -0.300762  \n",
              "torque-RPM     -0.024126 -0.183765   -0.300762    1.000000  "
            ],
            "text/html": [
              "\n",
              "  <div id=\"df-ea90a387-24cc-4dc9-bfab-42b615463a46\">\n",
              "    <div class=\"colab-df-container\">\n",
              "      <div>\n",
              "<style scoped>\n",
              "    .dataframe tbody tr th:only-of-type {\n",
              "        vertical-align: middle;\n",
              "    }\n",
              "\n",
              "    .dataframe tbody tr th {\n",
              "        vertical-align: top;\n",
              "    }\n",
              "\n",
              "    .dataframe thead th {\n",
              "        text-align: right;\n",
              "    }\n",
              "</style>\n",
              "<table border=\"1\" class=\"dataframe\">\n",
              "  <thead>\n",
              "    <tr style=\"text-align: right;\">\n",
              "      <th></th>\n",
              "      <th>year</th>\n",
              "      <th>selling_price</th>\n",
              "      <th>km_driven</th>\n",
              "      <th>mileage</th>\n",
              "      <th>engine</th>\n",
              "      <th>max_power</th>\n",
              "      <th>seats</th>\n",
              "      <th>torque-N/m</th>\n",
              "      <th>torque-RPM</th>\n",
              "    </tr>\n",
              "  </thead>\n",
              "  <tbody>\n",
              "    <tr>\n",
              "      <th>year</th>\n",
              "      <td>1.000000</td>\n",
              "      <td>0.411891</td>\n",
              "      <td>-0.423073</td>\n",
              "      <td>0.326652</td>\n",
              "      <td>0.019942</td>\n",
              "      <td>0.223262</td>\n",
              "      <td>-0.009703</td>\n",
              "      <td>0.090390</td>\n",
              "      <td>0.065054</td>\n",
              "    </tr>\n",
              "    <tr>\n",
              "      <th>selling_price</th>\n",
              "      <td>0.411891</td>\n",
              "      <td>1.000000</td>\n",
              "      <td>-0.218223</td>\n",
              "      <td>-0.122045</td>\n",
              "      <td>0.457946</td>\n",
              "      <td>0.749694</td>\n",
              "      <td>0.040353</td>\n",
              "      <td>0.497548</td>\n",
              "      <td>-0.081470</td>\n",
              "    </tr>\n",
              "    <tr>\n",
              "      <th>km_driven</th>\n",
              "      <td>-0.423073</td>\n",
              "      <td>-0.218223</td>\n",
              "      <td>1.000000</td>\n",
              "      <td>-0.162870</td>\n",
              "      <td>0.194509</td>\n",
              "      <td>-0.042918</td>\n",
              "      <td>0.216543</td>\n",
              "      <td>0.076748</td>\n",
              "      <td>-0.196525</td>\n",
              "    </tr>\n",
              "    <tr>\n",
              "      <th>mileage</th>\n",
              "      <td>0.326652</td>\n",
              "      <td>-0.122045</td>\n",
              "      <td>-0.162870</td>\n",
              "      <td>1.000000</td>\n",
              "      <td>-0.572204</td>\n",
              "      <td>-0.370289</td>\n",
              "      <td>-0.449413</td>\n",
              "      <td>-0.257899</td>\n",
              "      <td>-0.172925</td>\n",
              "    </tr>\n",
              "    <tr>\n",
              "      <th>engine</th>\n",
              "      <td>0.019942</td>\n",
              "      <td>0.457946</td>\n",
              "      <td>0.194509</td>\n",
              "      <td>-0.572204</td>\n",
              "      <td>1.000000</td>\n",
              "      <td>0.701474</td>\n",
              "      <td>0.608553</td>\n",
              "      <td>0.618538</td>\n",
              "      <td>-0.202126</td>\n",
              "    </tr>\n",
              "    <tr>\n",
              "      <th>max_power</th>\n",
              "      <td>0.223262</td>\n",
              "      <td>0.749694</td>\n",
              "      <td>-0.042918</td>\n",
              "      <td>-0.370289</td>\n",
              "      <td>0.701474</td>\n",
              "      <td>1.000000</td>\n",
              "      <td>0.183869</td>\n",
              "      <td>0.688750</td>\n",
              "      <td>-0.024126</td>\n",
              "    </tr>\n",
              "    <tr>\n",
              "      <th>seats</th>\n",
              "      <td>-0.009703</td>\n",
              "      <td>0.040353</td>\n",
              "      <td>0.216543</td>\n",
              "      <td>-0.449413</td>\n",
              "      <td>0.608553</td>\n",
              "      <td>0.183869</td>\n",
              "      <td>1.000000</td>\n",
              "      <td>0.289888</td>\n",
              "      <td>-0.183765</td>\n",
              "    </tr>\n",
              "    <tr>\n",
              "      <th>torque-N/m</th>\n",
              "      <td>0.090390</td>\n",
              "      <td>0.497548</td>\n",
              "      <td>0.076748</td>\n",
              "      <td>-0.257899</td>\n",
              "      <td>0.618538</td>\n",
              "      <td>0.688750</td>\n",
              "      <td>0.289888</td>\n",
              "      <td>1.000000</td>\n",
              "      <td>-0.300762</td>\n",
              "    </tr>\n",
              "    <tr>\n",
              "      <th>torque-RPM</th>\n",
              "      <td>0.065054</td>\n",
              "      <td>-0.081470</td>\n",
              "      <td>-0.196525</td>\n",
              "      <td>-0.172925</td>\n",
              "      <td>-0.202126</td>\n",
              "      <td>-0.024126</td>\n",
              "      <td>-0.183765</td>\n",
              "      <td>-0.300762</td>\n",
              "      <td>1.000000</td>\n",
              "    </tr>\n",
              "  </tbody>\n",
              "</table>\n",
              "</div>\n",
              "      <button class=\"colab-df-convert\" onclick=\"convertToInteractive('df-ea90a387-24cc-4dc9-bfab-42b615463a46')\"\n",
              "              title=\"Convert this dataframe to an interactive table.\"\n",
              "              style=\"display:none;\">\n",
              "        \n",
              "  <svg xmlns=\"http://www.w3.org/2000/svg\" height=\"24px\"viewBox=\"0 0 24 24\"\n",
              "       width=\"24px\">\n",
              "    <path d=\"M0 0h24v24H0V0z\" fill=\"none\"/>\n",
              "    <path d=\"M18.56 5.44l.94 2.06.94-2.06 2.06-.94-2.06-.94-.94-2.06-.94 2.06-2.06.94zm-11 1L8.5 8.5l.94-2.06 2.06-.94-2.06-.94L8.5 2.5l-.94 2.06-2.06.94zm10 10l.94 2.06.94-2.06 2.06-.94-2.06-.94-.94-2.06-.94 2.06-2.06.94z\"/><path d=\"M17.41 7.96l-1.37-1.37c-.4-.4-.92-.59-1.43-.59-.52 0-1.04.2-1.43.59L10.3 9.45l-7.72 7.72c-.78.78-.78 2.05 0 2.83L4 21.41c.39.39.9.59 1.41.59.51 0 1.02-.2 1.41-.59l7.78-7.78 2.81-2.81c.8-.78.8-2.07 0-2.86zM5.41 20L4 18.59l7.72-7.72 1.47 1.35L5.41 20z\"/>\n",
              "  </svg>\n",
              "      </button>\n",
              "      \n",
              "  <style>\n",
              "    .colab-df-container {\n",
              "      display:flex;\n",
              "      flex-wrap:wrap;\n",
              "      gap: 12px;\n",
              "    }\n",
              "\n",
              "    .colab-df-convert {\n",
              "      background-color: #E8F0FE;\n",
              "      border: none;\n",
              "      border-radius: 50%;\n",
              "      cursor: pointer;\n",
              "      display: none;\n",
              "      fill: #1967D2;\n",
              "      height: 32px;\n",
              "      padding: 0 0 0 0;\n",
              "      width: 32px;\n",
              "    }\n",
              "\n",
              "    .colab-df-convert:hover {\n",
              "      background-color: #E2EBFA;\n",
              "      box-shadow: 0px 1px 2px rgba(60, 64, 67, 0.3), 0px 1px 3px 1px rgba(60, 64, 67, 0.15);\n",
              "      fill: #174EA6;\n",
              "    }\n",
              "\n",
              "    [theme=dark] .colab-df-convert {\n",
              "      background-color: #3B4455;\n",
              "      fill: #D2E3FC;\n",
              "    }\n",
              "\n",
              "    [theme=dark] .colab-df-convert:hover {\n",
              "      background-color: #434B5C;\n",
              "      box-shadow: 0px 1px 3px 1px rgba(0, 0, 0, 0.15);\n",
              "      filter: drop-shadow(0px 1px 2px rgba(0, 0, 0, 0.3));\n",
              "      fill: #FFFFFF;\n",
              "    }\n",
              "  </style>\n",
              "\n",
              "      <script>\n",
              "        const buttonEl =\n",
              "          document.querySelector('#df-ea90a387-24cc-4dc9-bfab-42b615463a46 button.colab-df-convert');\n",
              "        buttonEl.style.display =\n",
              "          google.colab.kernel.accessAllowed ? 'block' : 'none';\n",
              "\n",
              "        async function convertToInteractive(key) {\n",
              "          const element = document.querySelector('#df-ea90a387-24cc-4dc9-bfab-42b615463a46');\n",
              "          const dataTable =\n",
              "            await google.colab.kernel.invokeFunction('convertToInteractive',\n",
              "                                                     [key], {});\n",
              "          if (!dataTable) return;\n",
              "\n",
              "          const docLinkHtml = 'Like what you see? Visit the ' +\n",
              "            '<a target=\"_blank\" href=https://colab.research.google.com/notebooks/data_table.ipynb>data table notebook</a>'\n",
              "            + ' to learn more about interactive tables.';\n",
              "          element.innerHTML = '';\n",
              "          dataTable['output_type'] = 'display_data';\n",
              "          await google.colab.output.renderOutput(dataTable, element);\n",
              "          const docLink = document.createElement('div');\n",
              "          docLink.innerHTML = docLinkHtml;\n",
              "          element.appendChild(docLink);\n",
              "        }\n",
              "      </script>\n",
              "    </div>\n",
              "  </div>\n",
              "  "
            ]
          },
          "metadata": {},
          "execution_count": 27
        }
      ]
    },
    {
      "cell_type": "markdown",
      "source": [
        "Сильнее всего цена зависит от мощности, и почти не зависит от числа мест и оборотов в минуту. В целом от этих двух столбцов можно было бы избавиться. Теперь посмотрим на распределения величин."
      ],
      "metadata": {
        "id": "BSzb7ni9Sbxh"
      }
    },
    {
      "cell_type": "code",
      "source": [
        "sns.histplot(df['year'], bins=30)"
      ],
      "metadata": {
        "colab": {
          "base_uri": "https://localhost:8080/",
          "height": 466
        },
        "id": "_ofcICFHTEoq",
        "outputId": "e8fdf482-9dcc-4b87-8667-20fc066bfaa5"
      },
      "execution_count": 28,
      "outputs": [
        {
          "output_type": "execute_result",
          "data": {
            "text/plain": [
              "<Axes: xlabel='year', ylabel='Count'>"
            ]
          },
          "metadata": {},
          "execution_count": 28
        },
        {
          "output_type": "display_data",
          "data": {
            "text/plain": [
              "<Figure size 640x480 with 1 Axes>"
            ],
            "image/png": "[encoded data removed]"
          },
          "metadata": {}
        }
      ]
    },
    {
      "cell_type": "markdown",
      "source": [
        "С годами все относительно впорядке."
      ],
      "metadata": {
        "id": "miyNMY-lbykM"
      }
    },
    {
      "cell_type": "code",
      "source": [
        "sns.histplot(df['selling_price'], bins=50)"
      ],
      "metadata": {
        "colab": {
          "base_uri": "https://localhost:8080/",
          "height": 467
        },
        "id": "X2-v2EQLhJ_1",
        "outputId": "8736c0e2-6c43-4cf0-d334-885bb44f04a1"
      },
      "execution_count": 29,
      "outputs": [
        {
          "output_type": "execute_result",
          "data": {
            "text/plain": [
              "<Axes: xlabel='selling_price', ylabel='Count'>"
            ]
          },
          "metadata": {},
          "execution_count": 29
        },
        {
          "output_type": "display_data",
          "data": {
            "text/plain": [
              "<Figure size 640x480 with 1 Axes>"
            ],
            "image/png": "[encoded data removed]"
          },
          "metadata": {}
        }
      ]
    },
    {
      "cell_type": "code",
      "source": [
        "len(df[df['selling_price']>2000000])"
      ],
      "metadata": {
        "colab": {
          "base_uri": "https://localhost:8080/"
        },
        "id": "uLcLPjhNb_2K",
        "outputId": "5f797b43-a232-4a50-b384-adf33daf5a25"
      },
      "execution_count": 30,
      "outputs": [
        {
          "output_type": "execute_result",
          "data": {
            "text/plain": [
              "302"
            ]
          },
          "metadata": {},
          "execution_count": 30
        }
      ]
    },
    {
      "cell_type": "code",
      "source": [
        "len(df[df['selling_price']<1000])"
      ],
      "metadata": {
        "colab": {
          "base_uri": "https://localhost:8080/"
        },
        "id": "ao01DZFnVMZR",
        "outputId": "c0345b69-86f1-481e-b2c4-423edcd4d2fe"
      },
      "execution_count": 31,
      "outputs": [
        {
          "output_type": "execute_result",
          "data": {
            "text/plain": [
              "0"
            ]
          },
          "metadata": {},
          "execution_count": 31
        }
      ]
    },
    {
      "cell_type": "markdown",
      "source": [
        "Цена это наш целевой показатель, и хоть тут и нету отрицательных значений, но есть существенные выбросы, от них лучше избавиться. Уберем элементы с ценой больше 2млн. Машин дешевле 1000 нету, значит хорошо всё, бесплатно не раздают."
      ],
      "metadata": {
        "id": "UEVwYhTCcVmZ"
      }
    },
    {
      "cell_type": "code",
      "source": [
        "df = df[df['selling_price']<2000000]"
      ],
      "metadata": {
        "id": "l-pHb6t0cePz"
      },
      "execution_count": 32,
      "outputs": []
    },
    {
      "cell_type": "code",
      "source": [
        "sns.histplot(df['km_driven'], bins=50)"
      ],
      "metadata": {
        "colab": {
          "base_uri": "https://localhost:8080/",
          "height": 467
        },
        "id": "5Mw4f0_LbttC",
        "outputId": "df3db21a-bfd7-4b37-a630-07537b352d0a"
      },
      "execution_count": 33,
      "outputs": [
        {
          "output_type": "execute_result",
          "data": {
            "text/plain": [
              "<Axes: xlabel='km_driven', ylabel='Count'>"
            ]
          },
          "metadata": {},
          "execution_count": 33
        },
        {
          "output_type": "display_data",
          "data": {
            "text/plain": [
              "<Figure size 640x480 with 1 Axes>"
            ],
            "image/png": "[encoded data removed]"
          },
          "metadata": {}
        }
      ]
    },
    {
      "cell_type": "markdown",
      "source": [
        "Тут тоже есть выбросы, уберем, где проезд больше 300тыс км, это нереально как по мне."
      ],
      "metadata": {
        "id": "1HDYlCG8dSMN"
      }
    },
    {
      "cell_type": "code",
      "source": [
        "df = df[df['km_driven']<300000]"
      ],
      "metadata": {
        "id": "oO-5ZbKxT3lp"
      },
      "execution_count": 34,
      "outputs": []
    },
    {
      "cell_type": "code",
      "source": [
        "sns.histplot(df['mileage'], bins=50)"
      ],
      "metadata": {
        "colab": {
          "base_uri": "https://localhost:8080/",
          "height": 466
        },
        "id": "N6NWFIHqdiJO",
        "outputId": "a9599ef4-d71d-4d44-fd04-a3adb5673d8c"
      },
      "execution_count": 35,
      "outputs": [
        {
          "output_type": "execute_result",
          "data": {
            "text/plain": [
              "<Axes: xlabel='mileage', ylabel='Count'>"
            ]
          },
          "metadata": {},
          "execution_count": 35
        },
        {
          "output_type": "display_data",
          "data": {
            "text/plain": [
              "<Figure size 640x480 with 1 Axes>"
            ],
            "image/png": "[encoded data removed]"
          },
          "metadata": {}
        }
      ]
    },
    {
      "cell_type": "markdown",
      "source": [
        "Тут в целом всё нормально, не считая машин без пробега."
      ],
      "metadata": {
        "id": "WZr3BVYWeiqA"
      }
    },
    {
      "cell_type": "code",
      "source": [
        "df[df['mileage']<5]"
      ],
      "metadata": {
        "colab": {
          "base_uri": "https://localhost:8080/",
          "height": 1000
        },
        "id": "41HK01tPfOly",
        "outputId": "83f155a5-5ffd-4f93-9ab5-0fcae9d9c765"
      },
      "execution_count": 36,
      "outputs": [
        {
          "output_type": "execute_result",
          "data": {
            "text/plain": [
              "                                                   name  year  selling_price  \\\n",
              "542   Tata Indica Vista Aura Safire Anniversary Edition  2009         135000   \n",
              "1363                             Hyundai Santro Xing GL  2008         105000   \n",
              "1388                Mercedes-Benz M-Class ML 350 4Matic  2011        1700000   \n",
              "1782                    Land Rover Freelander 2 TD4 HSE  2013        1650000   \n",
              "1971                       Hyundai Santro Xing (Non-AC)  2010         110000   \n",
              "2264                       Hyundai Santro Xing (Non-AC)  2013         184000   \n",
              "3748                Mercedes-Benz M-Class ML 350 4Matic  2011        1700000   \n",
              "4382                             Hyundai Santro Xing GL  2008         175000   \n",
              "4855                        Volkswagen Polo GT TSI BSIV  2014         574000   \n",
              "4858                        Volkswagen Polo GT TSI BSIV  2014         575000   \n",
              "4910                     Mahindra Bolero Pik-Up FB 1.7T  2020         679000   \n",
              "5456                             Hyundai Santro Xing GL  2010         150000   \n",
              "5532                    Mahindra Bolero Pik-Up CBC 1.7T  2019         722000   \n",
              "5701                             Hyundai Santro Xing GL  2011         150000   \n",
              "5854                       Hyundai Santro Xing (Non-AC)  2010         110000   \n",
              "\n",
              "      km_driven    fuel seller_type transmission                 owner  \\\n",
              "542       28900  Petrol  Individual       Manual          Second Owner   \n",
              "1363     128000  Petrol  Individual       Manual           First Owner   \n",
              "1388     110000  Diesel  Individual    Automatic           Third Owner   \n",
              "1782      64788  Diesel      Dealer    Automatic           First Owner   \n",
              "1971      80000  Petrol  Individual       Manual          Second Owner   \n",
              "2264      15000  Petrol  Individual       Manual           First Owner   \n",
              "3748     110000  Diesel  Individual    Automatic           Third Owner   \n",
              "4382      40000  Petrol  Individual       Manual           First Owner   \n",
              "4855      28080  Petrol      Dealer    Automatic           First Owner   \n",
              "4858      28100  Petrol      Dealer    Automatic           First Owner   \n",
              "4910       5000  Diesel  Individual       Manual           First Owner   \n",
              "5456     110000  Petrol  Individual       Manual           First Owner   \n",
              "5532      80000  Diesel  Individual       Manual           First Owner   \n",
              "5701      40000  Petrol  Individual       Manual  Fourth & Above Owner   \n",
              "5854      80000  Petrol  Individual       Manual          Second Owner   \n",
              "\n",
              "      mileage  engine  max_power  seats  torque-N/m  torque-RPM  \n",
              "542       0.0    1172      65.00      5    96.10517        3000  \n",
              "1363      0.0    1086      62.00      5    96.10000        3000  \n",
              "1388      0.0    2987     165.00      5   510.00000        2400  \n",
              "1782      0.0    2179     115.00      5   400.00000        2000  \n",
              "1971      0.0    1086      62.10      5    96.10000        3000  \n",
              "2264      0.0    1086      62.10      5    96.10000        3000  \n",
              "3748      0.0    2987     165.00      5   510.00000        2400  \n",
              "4382      0.0    1086      62.00      5    96.10000        3000  \n",
              "4855      0.0    1197     103.25      5   175.00000        4100  \n",
              "4858      0.0    1197     103.25      5   175.00000        4100  \n",
              "4910      0.0    2523      70.00      2   200.00000        2200  \n",
              "5456      0.0    1086      62.00      5    96.10000        3000  \n",
              "5532      0.0    2523      70.00      2   200.00000        2200  \n",
              "5701      0.0    1086      62.00      5    96.10000        3000  \n",
              "5854      0.0    1086      62.10      5    96.10000        3000  "
            ],
            "text/html": [
              "\n",
              "  <div id=\"df-e066a292-15ee-4289-bee3-0dcd2ae58b4b\">\n",
              "    <div class=\"colab-df-container\">\n",
              "      <div>\n",
              "<style scoped>\n",
              "    .dataframe tbody tr th:only-of-type {\n",
              "        vertical-align: middle;\n",
              "    }\n",
              "\n",
              "    .dataframe tbody tr th {\n",
              "        vertical-align: top;\n",
              "    }\n",
              "\n",
              "    .dataframe thead th {\n",
              "        text-align: right;\n",
              "    }\n",
              "</style>\n",
              "<table border=\"1\" class=\"dataframe\">\n",
              "  <thead>\n",
              "    <tr style=\"text-align: right;\">\n",
              "      <th></th>\n",
              "      <th>name</th>\n",
              "      <th>year</th>\n",
              "      <th>selling_price</th>\n",
              "      <th>km_driven</th>\n",
              "      <th>fuel</th>\n",
              "      <th>seller_type</th>\n",
              "      <th>transmission</th>\n",
              "      <th>owner</th>\n",
              "      <th>mileage</th>\n",
              "      <th>engine</th>\n",
              "      <th>max_power</th>\n",
              "      <th>seats</th>\n",
              "      <th>torque-N/m</th>\n",
              "      <th>torque-RPM</th>\n",
              "    </tr>\n",
              "  </thead>\n",
              "  <tbody>\n",
              "    <tr>\n",
              "      <th>542</th>\n",
              "      <td>Tata Indica Vista Aura Safire Anniversary Edition</td>\n",
              "      <td>2009</td>\n",
              "      <td>135000</td>\n",
              "      <td>28900</td>\n",
              "      <td>Petrol</td>\n",
              "      <td>Individual</td>\n",
              "      <td>Manual</td>\n",
              "      <td>Second Owner</td>\n",
              "      <td>0.0</td>\n",
              "      <td>1172</td>\n",
              "      <td>65.00</td>\n",
              "      <td>5</td>\n",
              "      <td>96.10517</td>\n",
              "      <td>3000</td>\n",
              "    </tr>\n",
              "    <tr>\n",
              "      <th>1363</th>\n",
              "      <td>Hyundai Santro Xing GL</td>\n",
              "      <td>2008</td>\n",
              "      <td>105000</td>\n",
              "      <td>128000</td>\n",
              "      <td>Petrol</td>\n",
              "      <td>Individual</td>\n",
              "      <td>Manual</td>\n",
              "      <td>First Owner</td>\n",
              "      <td>0.0</td>\n",
              "      <td>1086</td>\n",
              "      <td>62.00</td>\n",
              "      <td>5</td>\n",
              "      <td>96.10000</td>\n",
              "      <td>3000</td>\n",
              "    </tr>\n",
              "    <tr>\n",
              "      <th>1388</th>\n",
              "      <td>Mercedes-Benz M-Class ML 350 4Matic</td>\n",
              "      <td>2011</td>\n",
              "      <td>1700000</td>\n",
              "      <td>110000</td>\n",
              "      <td>Diesel</td>\n",
              "      <td>Individual</td>\n",
              "      <td>Automatic</td>\n",
              "      <td>Third Owner</td>\n",
              "      <td>0.0</td>\n",
              "      <td>2987</td>\n",
              "      <td>165.00</td>\n",
              "      <td>5</td>\n",
              "      <td>510.00000</td>\n",
              "      <td>2400</td>\n",
              "    </tr>\n",
              "    <tr>\n",
              "      <th>1782</th>\n",
              "      <td>Land Rover Freelander 2 TD4 HSE</td>\n",
              "      <td>2013</td>\n",
              "      <td>1650000</td>\n",
              "      <td>64788</td>\n",
              "      <td>Diesel</td>\n",
              "      <td>Dealer</td>\n",
              "      <td>Automatic</td>\n",
              "      <td>First Owner</td>\n",
              "      <td>0.0</td>\n",
              "      <td>2179</td>\n",
              "      <td>115.00</td>\n",
              "      <td>5</td>\n",
              "      <td>400.00000</td>\n",
              "      <td>2000</td>\n",
              "    </tr>\n",
              "    <tr>\n",
              "      <th>1971</th>\n",
              "      <td>Hyundai Santro Xing (Non-AC)</td>\n",
              "      <td>2010</td>\n",
              "      <td>110000</td>\n",
              "      <td>80000</td>\n",
              "      <td>Petrol</td>\n",
              "      <td>Individual</td>\n",
              "      <td>Manual</td>\n",
              "      <td>Second Owner</td>\n",
              "      <td>0.0</td>\n",
              "      <td>1086</td>\n",
              "      <td>62.10</td>\n",
              "      <td>5</td>\n",
              "      <td>96.10000</td>\n",
              "      <td>3000</td>\n",
              "    </tr>\n",
              "    <tr>\n",
              "      <th>2264</th>\n",
              "      <td>Hyundai Santro Xing (Non-AC)</td>\n",
              "      <td>2013</td>\n",
              "      <td>184000</td>\n",
              "      <td>15000</td>\n",
              "      <td>Petrol</td>\n",
              "      <td>Individual</td>\n",
              "      <td>Manual</td>\n",
              "      <td>First Owner</td>\n",
              "      <td>0.0</td>\n",
              "      <td>1086</td>\n",
              "      <td>62.10</td>\n",
              "      <td>5</td>\n",
              "      <td>96.10000</td>\n",
              "      <td>3000</td>\n",
              "    </tr>\n",
              "    <tr>\n",
              "      <th>3748</th>\n",
              "      <td>Mercedes-Benz M-Class ML 350 4Matic</td>\n",
              "      <td>2011</td>\n",
              "      <td>1700000</td>\n",
              "      <td>110000</td>\n",
              "      <td>Diesel</td>\n",
              "      <td>Individual</td>\n",
              "      <td>Automatic</td>\n",
              "      <td>Third Owner</td>\n",
              "      <td>0.0</td>\n",
              "      <td>2987</td>\n",
              "      <td>165.00</td>\n",
              "      <td>5</td>\n",
              "      <td>510.00000</td>\n",
              "      <td>2400</td>\n",
              "    </tr>\n",
              "    <tr>\n",
              "      <th>4382</th>\n",
              "      <td>Hyundai Santro Xing GL</td>\n",
              "      <td>2008</td>\n",
              "      <td>175000</td>\n",
              "      <td>40000</td>\n",
              "      <td>Petrol</td>\n",
              "      <td>Individual</td>\n",
              "      <td>Manual</td>\n",
              "      <td>First Owner</td>\n",
              "      <td>0.0</td>\n",
              "      <td>1086</td>\n",
              "      <td>62.00</td>\n",
              "      <td>5</td>\n",
              "      <td>96.10000</td>\n",
              "      <td>3000</td>\n",
              "    </tr>\n",
              "    <tr>\n",
              "      <th>4855</th>\n",
              "      <td>Volkswagen Polo GT TSI BSIV</td>\n",
              "      <td>2014</td>\n",
              "      <td>574000</td>\n",
              "      <td>28080</td>\n",
              "      <td>Petrol</td>\n",
              "      <td>Dealer</td>\n",
              "      <td>Automatic</td>\n",
              "      <td>First Owner</td>\n",
              "      <td>0.0</td>\n",
              "      <td>1197</td>\n",
              "      <td>103.25</td>\n",
              "      <td>5</td>\n",
              "      <td>175.00000</td>\n",
              "      <td>4100</td>\n",
              "    </tr>\n",
              "    <tr>\n",
              "      <th>4858</th>\n",
              "      <td>Volkswagen Polo GT TSI BSIV</td>\n",
              "      <td>2014</td>\n",
              "      <td>575000</td>\n",
              "      <td>28100</td>\n",
              "      <td>Petrol</td>\n",
              "      <td>Dealer</td>\n",
              "      <td>Automatic</td>\n",
              "      <td>First Owner</td>\n",
              "      <td>0.0</td>\n",
              "      <td>1197</td>\n",
              "      <td>103.25</td>\n",
              "      <td>5</td>\n",
              "      <td>175.00000</td>\n",
              "      <td>4100</td>\n",
              "    </tr>\n",
              "    <tr>\n",
              "      <th>4910</th>\n",
              "      <td>Mahindra Bolero Pik-Up FB 1.7T</td>\n",
              "      <td>2020</td>\n",
              "      <td>679000</td>\n",
              "      <td>5000</td>\n",
              "      <td>Diesel</td>\n",
              "      <td>Individual</td>\n",
              "      <td>Manual</td>\n",
              "      <td>First Owner</td>\n",
              "      <td>0.0</td>\n",
              "      <td>2523</td>\n",
              "      <td>70.00</td>\n",
              "      <td>2</td>\n",
              "      <td>200.00000</td>\n",
              "      <td>2200</td>\n",
              "    </tr>\n",
              "    <tr>\n",
              "      <th>5456</th>\n",
              "      <td>Hyundai Santro Xing GL</td>\n",
              "      <td>2010</td>\n",
              "      <td>150000</td>\n",
              "      <td>110000</td>\n",
              "      <td>Petrol</td>\n",
              "      <td>Individual</td>\n",
              "      <td>Manual</td>\n",
              "      <td>First Owner</td>\n",
              "      <td>0.0</td>\n",
              "      <td>1086</td>\n",
              "      <td>62.00</td>\n",
              "      <td>5</td>\n",
              "      <td>96.10000</td>\n",
              "      <td>3000</td>\n",
              "    </tr>\n",
              "    <tr>\n",
              "      <th>5532</th>\n",
              "      <td>Mahindra Bolero Pik-Up CBC 1.7T</td>\n",
              "      <td>2019</td>\n",
              "      <td>722000</td>\n",
              "      <td>80000</td>\n",
              "      <td>Diesel</td>\n",
              "      <td>Individual</td>\n",
              "      <td>Manual</td>\n",
              "      <td>First Owner</td>\n",
              "      <td>0.0</td>\n",
              "      <td>2523</td>\n",
              "      <td>70.00</td>\n",
              "      <td>2</td>\n",
              "      <td>200.00000</td>\n",
              "      <td>2200</td>\n",
              "    </tr>\n",
              "    <tr>\n",
              "      <th>5701</th>\n",
              "      <td>Hyundai Santro Xing GL</td>\n",
              "      <td>2011</td>\n",
              "      <td>150000</td>\n",
              "      <td>40000</td>\n",
              "      <td>Petrol</td>\n",
              "      <td>Individual</td>\n",
              "      <td>Manual</td>\n",
              "      <td>Fourth &amp; Above Owner</td>\n",
              "      <td>0.0</td>\n",
              "      <td>1086</td>\n",
              "      <td>62.00</td>\n",
              "      <td>5</td>\n",
              "      <td>96.10000</td>\n",
              "      <td>3000</td>\n",
              "    </tr>\n",
              "    <tr>\n",
              "      <th>5854</th>\n",
              "      <td>Hyundai Santro Xing (Non-AC)</td>\n",
              "      <td>2010</td>\n",
              "      <td>110000</td>\n",
              "      <td>80000</td>\n",
              "      <td>Petrol</td>\n",
              "      <td>Individual</td>\n",
              "      <td>Manual</td>\n",
              "      <td>Second Owner</td>\n",
              "      <td>0.0</td>\n",
              "      <td>1086</td>\n",
              "      <td>62.10</td>\n",
              "      <td>5</td>\n",
              "      <td>96.10000</td>\n",
              "      <td>3000</td>\n",
              "    </tr>\n",
              "  </tbody>\n",
              "</table>\n",
              "</div>\n",
              "      <button class=\"colab-df-convert\" onclick=\"convertToInteractive('df-e066a292-15ee-4289-bee3-0dcd2ae58b4b')\"\n",
              "              title=\"Convert this dataframe to an interactive table.\"\n",
              "              style=\"display:none;\">\n",
              "        \n",
              "  <svg xmlns=\"http://www.w3.org/2000/svg\" height=\"24px\"viewBox=\"0 0 24 24\"\n",
              "       width=\"24px\">\n",
              "    <path d=\"M0 0h24v24H0V0z\" fill=\"none\"/>\n",
              "    <path d=\"M18.56 5.44l.94 2.06.94-2.06 2.06-.94-2.06-.94-.94-2.06-.94 2.06-2.06.94zm-11 1L8.5 8.5l.94-2.06 2.06-.94-2.06-.94L8.5 2.5l-.94 2.06-2.06.94zm10 10l.94 2.06.94-2.06 2.06-.94-2.06-.94-.94-2.06-.94 2.06-2.06.94z\"/><path d=\"M17.41 7.96l-1.37-1.37c-.4-.4-.92-.59-1.43-.59-.52 0-1.04.2-1.43.59L10.3 9.45l-7.72 7.72c-.78.78-.78 2.05 0 2.83L4 21.41c.39.39.9.59 1.41.59.51 0 1.02-.2 1.41-.59l7.78-7.78 2.81-2.81c.8-.78.8-2.07 0-2.86zM5.41 20L4 18.59l7.72-7.72 1.47 1.35L5.41 20z\"/>\n",
              "  </svg>\n",
              "      </button>\n",
              "      \n",
              "  <style>\n",
              "    .colab-df-container {\n",
              "      display:flex;\n",
              "      flex-wrap:wrap;\n",
              "      gap: 12px;\n",
              "    }\n",
              "\n",
              "    .colab-df-convert {\n",
              "      background-color: #E8F0FE;\n",
              "      border: none;\n",
              "      border-radius: 50%;\n",
              "      cursor: pointer;\n",
              "      display: none;\n",
              "      fill: #1967D2;\n",
              "      height: 32px;\n",
              "      padding: 0 0 0 0;\n",
              "      width: 32px;\n",
              "    }\n",
              "\n",
              "    .colab-df-convert:hover {\n",
              "      background-color: #E2EBFA;\n",
              "      box-shadow: 0px 1px 2px rgba(60, 64, 67, 0.3), 0px 1px 3px 1px rgba(60, 64, 67, 0.15);\n",
              "      fill: #174EA6;\n",
              "    }\n",
              "\n",
              "    [theme=dark] .colab-df-convert {\n",
              "      background-color: #3B4455;\n",
              "      fill: #D2E3FC;\n",
              "    }\n",
              "\n",
              "    [theme=dark] .colab-df-convert:hover {\n",
              "      background-color: #434B5C;\n",
              "      box-shadow: 0px 1px 3px 1px rgba(0, 0, 0, 0.15);\n",
              "      filter: drop-shadow(0px 1px 2px rgba(0, 0, 0, 0.3));\n",
              "      fill: #FFFFFF;\n",
              "    }\n",
              "  </style>\n",
              "\n",
              "      <script>\n",
              "        const buttonEl =\n",
              "          document.querySelector('#df-e066a292-15ee-4289-bee3-0dcd2ae58b4b button.colab-df-convert');\n",
              "        buttonEl.style.display =\n",
              "          google.colab.kernel.accessAllowed ? 'block' : 'none';\n",
              "\n",
              "        async function convertToInteractive(key) {\n",
              "          const element = document.querySelector('#df-e066a292-15ee-4289-bee3-0dcd2ae58b4b');\n",
              "          const dataTable =\n",
              "            await google.colab.kernel.invokeFunction('convertToInteractive',\n",
              "                                                     [key], {});\n",
              "          if (!dataTable) return;\n",
              "\n",
              "          const docLinkHtml = 'Like what you see? Visit the ' +\n",
              "            '<a target=\"_blank\" href=https://colab.research.google.com/notebooks/data_table.ipynb>data table notebook</a>'\n",
              "            + ' to learn more about interactive tables.';\n",
              "          element.innerHTML = '';\n",
              "          dataTable['output_type'] = 'display_data';\n",
              "          await google.colab.output.renderOutput(dataTable, element);\n",
              "          const docLink = document.createElement('div');\n",
              "          docLink.innerHTML = docLinkHtml;\n",
              "          element.appendChild(docLink);\n",
              "        }\n",
              "      </script>\n",
              "    </div>\n",
              "  </div>\n",
              "  "
            ]
          },
          "metadata": {},
          "execution_count": 36
        }
      ]
    },
    {
      "cell_type": "markdown",
      "source": [
        "Все же некоторый пробег у них есть в километраже, значит заменим 0 медианами."
      ],
      "metadata": {
        "id": "TXG8hsMgfjvF"
      }
    },
    {
      "cell_type": "code",
      "source": [
        "df = df.reset_index(drop=True)"
      ],
      "metadata": {
        "id": "PfFTzQ4JgzZG"
      },
      "execution_count": 37,
      "outputs": []
    },
    {
      "cell_type": "code",
      "source": [
        "for i in range(len(df)):\n",
        "  if df.loc[i,'mileage'] == 0.0:\n",
        "    df.loc[i,'mileage'] = df['mileage'].median()"
      ],
      "metadata": {
        "id": "7sEmMBDyfrIH"
      },
      "execution_count": 38,
      "outputs": []
    },
    {
      "cell_type": "code",
      "source": [
        "sns.histplot(df['engine'], bins=30)"
      ],
      "metadata": {
        "colab": {
          "base_uri": "https://localhost:8080/",
          "height": 466
        },
        "id": "-oIIP98Od_zc",
        "outputId": "510c997d-da30-4c54-f8db-7c5e316564e3"
      },
      "execution_count": 39,
      "outputs": [
        {
          "output_type": "execute_result",
          "data": {
            "text/plain": [
              "<Axes: xlabel='engine', ylabel='Count'>"
            ]
          },
          "metadata": {},
          "execution_count": 39
        },
        {
          "output_type": "display_data",
          "data": {
            "text/plain": [
              "<Figure size 640x480 with 1 Axes>"
            ],
            "image/png": "[encoded data removed]"
          },
          "metadata": {}
        }
      ]
    },
    {
      "cell_type": "markdown",
      "source": [
        "С объемом двигателей все более-менее нормально."
      ],
      "metadata": {
        "id": "4AI29JNkhnCy"
      }
    },
    {
      "cell_type": "code",
      "source": [
        "sns.histplot(df['max_power'], bins=50)"
      ],
      "metadata": {
        "colab": {
          "base_uri": "https://localhost:8080/",
          "height": 466
        },
        "id": "HGNt1__YhqsV",
        "outputId": "c8b2a232-f459-4db4-a1b3-265ff522e2b3"
      },
      "execution_count": 40,
      "outputs": [
        {
          "output_type": "execute_result",
          "data": {
            "text/plain": [
              "<Axes: xlabel='max_power', ylabel='Count'>"
            ]
          },
          "metadata": {},
          "execution_count": 40
        },
        {
          "output_type": "display_data",
          "data": {
            "text/plain": [
              "<Figure size 640x480 with 1 Axes>"
            ],
            "image/png": "[encoded data removed]"
          },
          "metadata": {}
        }
      ]
    },
    {
      "cell_type": "code",
      "source": [
        "df[df['max_power']<5]"
      ],
      "metadata": {
        "colab": {
          "base_uri": "https://localhost:8080/",
          "height": 196
        },
        "id": "60aPsKC7ef2S",
        "outputId": "3698ce3d-a20e-4e35-d094-cc23a462631a"
      },
      "execution_count": 41,
      "outputs": [
        {
          "output_type": "execute_result",
          "data": {
            "text/plain": [
              "                 name  year  selling_price  km_driven fuel seller_type  \\\n",
              "3855  Maruti Omni CNG  2000          80000     100000  CNG  Individual   \n",
              "\n",
              "     transmission         owner  mileage  engine  max_power  seats  \\\n",
              "3855       Manual  Second Owner     10.9     796        0.0      8   \n",
              "\n",
              "      torque-N/m  torque-RPM  \n",
              "3855         0.0           0  "
            ],
            "text/html": [
              "\n",
              "  <div id=\"df-6c6f725b-3e6a-4c7e-99a9-f8133ab099aa\">\n",
              "    <div class=\"colab-df-container\">\n",
              "      <div>\n",
              "<style scoped>\n",
              "    .dataframe tbody tr th:only-of-type {\n",
              "        vertical-align: middle;\n",
              "    }\n",
              "\n",
              "    .dataframe tbody tr th {\n",
              "        vertical-align: top;\n",
              "    }\n",
              "\n",
              "    .dataframe thead th {\n",
              "        text-align: right;\n",
              "    }\n",
              "</style>\n",
              "<table border=\"1\" class=\"dataframe\">\n",
              "  <thead>\n",
              "    <tr style=\"text-align: right;\">\n",
              "      <th></th>\n",
              "      <th>name</th>\n",
              "      <th>year</th>\n",
              "      <th>selling_price</th>\n",
              "      <th>km_driven</th>\n",
              "      <th>fuel</th>\n",
              "      <th>seller_type</th>\n",
              "      <th>transmission</th>\n",
              "      <th>owner</th>\n",
              "      <th>mileage</th>\n",
              "      <th>engine</th>\n",
              "      <th>max_power</th>\n",
              "      <th>seats</th>\n",
              "      <th>torque-N/m</th>\n",
              "      <th>torque-RPM</th>\n",
              "    </tr>\n",
              "  </thead>\n",
              "  <tbody>\n",
              "    <tr>\n",
              "      <th>3855</th>\n",
              "      <td>Maruti Omni CNG</td>\n",
              "      <td>2000</td>\n",
              "      <td>80000</td>\n",
              "      <td>100000</td>\n",
              "      <td>CNG</td>\n",
              "      <td>Individual</td>\n",
              "      <td>Manual</td>\n",
              "      <td>Second Owner</td>\n",
              "      <td>10.9</td>\n",
              "      <td>796</td>\n",
              "      <td>0.0</td>\n",
              "      <td>8</td>\n",
              "      <td>0.0</td>\n",
              "      <td>0</td>\n",
              "    </tr>\n",
              "  </tbody>\n",
              "</table>\n",
              "</div>\n",
              "      <button class=\"colab-df-convert\" onclick=\"convertToInteractive('df-6c6f725b-3e6a-4c7e-99a9-f8133ab099aa')\"\n",
              "              title=\"Convert this dataframe to an interactive table.\"\n",
              "              style=\"display:none;\">\n",
              "        \n",
              "  <svg xmlns=\"http://www.w3.org/2000/svg\" height=\"24px\"viewBox=\"0 0 24 24\"\n",
              "       width=\"24px\">\n",
              "    <path d=\"M0 0h24v24H0V0z\" fill=\"none\"/>\n",
              "    <path d=\"M18.56 5.44l.94 2.06.94-2.06 2.06-.94-2.06-.94-.94-2.06-.94 2.06-2.06.94zm-11 1L8.5 8.5l.94-2.06 2.06-.94-2.06-.94L8.5 2.5l-.94 2.06-2.06.94zm10 10l.94 2.06.94-2.06 2.06-.94-2.06-.94-.94-2.06-.94 2.06-2.06.94z\"/><path d=\"M17.41 7.96l-1.37-1.37c-.4-.4-.92-.59-1.43-.59-.52 0-1.04.2-1.43.59L10.3 9.45l-7.72 7.72c-.78.78-.78 2.05 0 2.83L4 21.41c.39.39.9.59 1.41.59.51 0 1.02-.2 1.41-.59l7.78-7.78 2.81-2.81c.8-.78.8-2.07 0-2.86zM5.41 20L4 18.59l7.72-7.72 1.47 1.35L5.41 20z\"/>\n",
              "  </svg>\n",
              "      </button>\n",
              "      \n",
              "  <style>\n",
              "    .colab-df-container {\n",
              "      display:flex;\n",
              "      flex-wrap:wrap;\n",
              "      gap: 12px;\n",
              "    }\n",
              "\n",
              "    .colab-df-convert {\n",
              "      background-color: #E8F0FE;\n",
              "      border: none;\n",
              "      border-radius: 50%;\n",
              "      cursor: pointer;\n",
              "      display: none;\n",
              "      fill: #1967D2;\n",
              "      height: 32px;\n",
              "      padding: 0 0 0 0;\n",
              "      width: 32px;\n",
              "    }\n",
              "\n",
              "    .colab-df-convert:hover {\n",
              "      background-color: #E2EBFA;\n",
              "      box-shadow: 0px 1px 2px rgba(60, 64, 67, 0.3), 0px 1px 3px 1px rgba(60, 64, 67, 0.15);\n",
              "      fill: #174EA6;\n",
              "    }\n",
              "\n",
              "    [theme=dark] .colab-df-convert {\n",
              "      background-color: #3B4455;\n",
              "      fill: #D2E3FC;\n",
              "    }\n",
              "\n",
              "    [theme=dark] .colab-df-convert:hover {\n",
              "      background-color: #434B5C;\n",
              "      box-shadow: 0px 1px 3px 1px rgba(0, 0, 0, 0.15);\n",
              "      filter: drop-shadow(0px 1px 2px rgba(0, 0, 0, 0.3));\n",
              "      fill: #FFFFFF;\n",
              "    }\n",
              "  </style>\n",
              "\n",
              "      <script>\n",
              "        const buttonEl =\n",
              "          document.querySelector('#df-6c6f725b-3e6a-4c7e-99a9-f8133ab099aa button.colab-df-convert');\n",
              "        buttonEl.style.display =\n",
              "          google.colab.kernel.accessAllowed ? 'block' : 'none';\n",
              "\n",
              "        async function convertToInteractive(key) {\n",
              "          const element = document.querySelector('#df-6c6f725b-3e6a-4c7e-99a9-f8133ab099aa');\n",
              "          const dataTable =\n",
              "            await google.colab.kernel.invokeFunction('convertToInteractive',\n",
              "                                                     [key], {});\n",
              "          if (!dataTable) return;\n",
              "\n",
              "          const docLinkHtml = 'Like what you see? Visit the ' +\n",
              "            '<a target=\"_blank\" href=https://colab.research.google.com/notebooks/data_table.ipynb>data table notebook</a>'\n",
              "            + ' to learn more about interactive tables.';\n",
              "          element.innerHTML = '';\n",
              "          dataTable['output_type'] = 'display_data';\n",
              "          await google.colab.output.renderOutput(dataTable, element);\n",
              "          const docLink = document.createElement('div');\n",
              "          docLink.innerHTML = docLinkHtml;\n",
              "          element.appendChild(docLink);\n",
              "        }\n",
              "      </script>\n",
              "    </div>\n",
              "  </div>\n",
              "  "
            ]
          },
          "metadata": {},
          "execution_count": 41
        }
      ]
    },
    {
      "cell_type": "markdown",
      "source": [
        "Тут один нулевой объект, в том числе и в паре других столбцов. Его удалим. И уберем обхекты с мощьностью более 200"
      ],
      "metadata": {
        "id": "fwA0Z2fbiWU_"
      }
    },
    {
      "cell_type": "code",
      "source": [
        "df = df[df['max_power']>5]\n",
        "df = df[df['max_power']<200]\n",
        "df = df.reset_index(drop=True)"
      ],
      "metadata": {
        "id": "_M04lrEaiEc9"
      },
      "execution_count": 42,
      "outputs": []
    },
    {
      "cell_type": "code",
      "source": [
        "sns.histplot(df['seats'], bins=30)"
      ],
      "metadata": {
        "colab": {
          "base_uri": "https://localhost:8080/",
          "height": 466
        },
        "id": "hPqN9OE6ig-7",
        "outputId": "ced19551-a6cb-4c4d-9ab0-e712d4635f68"
      },
      "execution_count": 43,
      "outputs": [
        {
          "output_type": "execute_result",
          "data": {
            "text/plain": [
              "<Axes: xlabel='seats', ylabel='Count'>"
            ]
          },
          "metadata": {},
          "execution_count": 43
        },
        {
          "output_type": "display_data",
          "data": {
            "text/plain": [
              "<Figure size 640x480 with 1 Axes>"
            ],
            "image/png": "[encoded data removed]"
          },
          "metadata": {}
        }
      ]
    },
    {
      "cell_type": "markdown",
      "source": [
        "С местами все относительно впорядке."
      ],
      "metadata": {
        "id": "__sg22P0ixv_"
      }
    },
    {
      "cell_type": "code",
      "source": [
        "sns.histplot(df['torque-N/m'], bins=100)"
      ],
      "metadata": {
        "colab": {
          "base_uri": "https://localhost:8080/",
          "height": 466
        },
        "id": "fSODXvjbi01E",
        "outputId": "5e0f94ad-0599-4474-dd48-8c9e231f5886"
      },
      "execution_count": 44,
      "outputs": [
        {
          "output_type": "execute_result",
          "data": {
            "text/plain": [
              "<Axes: xlabel='torque-N/m', ylabel='Count'>"
            ]
          },
          "metadata": {},
          "execution_count": 44
        },
        {
          "output_type": "display_data",
          "data": {
            "text/plain": [
              "<Figure size 640x480 with 1 Axes>"
            ],
            "image/png": "[encoded data removed]"
          },
          "metadata": {}
        }
      ]
    },
    {
      "cell_type": "code",
      "source": [
        "len(df[df['torque-N/m']>750])"
      ],
      "metadata": {
        "colab": {
          "base_uri": "https://localhost:8080/"
        },
        "id": "ohuGCx9kilEY",
        "outputId": "c7b6eb7e-59eb-4f25-d69a-4f1041478241"
      },
      "execution_count": 45,
      "outputs": [
        {
          "output_type": "execute_result",
          "data": {
            "text/plain": [
              "23"
            ]
          },
          "metadata": {},
          "execution_count": 45
        }
      ]
    },
    {
      "cell_type": "code",
      "source": [
        "len(df[df['torque-N/m']<10])"
      ],
      "metadata": {
        "colab": {
          "base_uri": "https://localhost:8080/"
        },
        "id": "x_FPVXs7hafn",
        "outputId": "bd1ecdb2-75a3-4ec3-d737-9e9526a41ff1"
      },
      "execution_count": 46,
      "outputs": [
        {
          "output_type": "execute_result",
          "data": {
            "text/plain": [
              "0"
            ]
          },
          "metadata": {},
          "execution_count": 46
        }
      ]
    },
    {
      "cell_type": "markdown",
      "source": [
        "Убрал выбросы больше 750 Н\\м так как они сильно помешают."
      ],
      "metadata": {
        "id": "7_52tbJkoHkT"
      }
    },
    {
      "cell_type": "code",
      "source": [
        "df = df[df['torque-N/m']<750]\n",
        "df = df.reset_index(drop=True)"
      ],
      "metadata": {
        "id": "vZOTxwpFjDkZ"
      },
      "execution_count": 47,
      "outputs": []
    },
    {
      "cell_type": "code",
      "source": [
        "sns.histplot(df['torque-RPM'], bins=50)"
      ],
      "metadata": {
        "colab": {
          "base_uri": "https://localhost:8080/",
          "height": 466
        },
        "id": "zKHUJHwAodIL",
        "outputId": "2f1e968a-c08a-441c-e359-57227aca9912"
      },
      "execution_count": 48,
      "outputs": [
        {
          "output_type": "execute_result",
          "data": {
            "text/plain": [
              "<Axes: xlabel='torque-RPM', ylabel='Count'>"
            ]
          },
          "metadata": {},
          "execution_count": 48
        },
        {
          "output_type": "display_data",
          "data": {
            "text/plain": [
              "<Figure size 640x480 with 1 Axes>"
            ],
            "image/png": "[encoded data removed]"
          },
          "metadata": {}
        }
      ]
    },
    {
      "cell_type": "markdown",
      "source": [
        "В оборотах в минуту 0 заменим на медианы."
      ],
      "metadata": {
        "id": "GCcetG-to25k"
      }
    },
    {
      "cell_type": "code",
      "source": [
        "for i in range(len(df)):\n",
        "  if df.loc[i,'torque-RPM'] == 0:\n",
        "    df.loc[i,'torque-RPM'] = df['torque-RPM'].median()"
      ],
      "metadata": {
        "id": "pd8xl0pcohGs"
      },
      "execution_count": 49,
      "outputs": []
    },
    {
      "cell_type": "markdown",
      "source": [
        "## Распределения классовых значений"
      ],
      "metadata": {
        "id": "mrP20VHVo_7H"
      }
    },
    {
      "cell_type": "code",
      "source": [
        "plt.figure(figsize=(6,4))\n",
        "\n",
        "sns.barplot(x='fuel', y='selling_price', errorbar = \"sd\", data = df[['fuel','selling_price']], palette='summer')\n",
        "plt.title('fuel - price')\n",
        "plt.show()"
      ],
      "metadata": {
        "colab": {
          "base_uri": "https://localhost:8080/",
          "height": 410
        },
        "id": "IJsaQpaqpIlB",
        "outputId": "b356ab36-5fa2-4171-f2dd-bc24a23faf88"
      },
      "execution_count": 50,
      "outputs": [
        {
          "output_type": "display_data",
          "data": {
            "text/plain": [
              "<Figure size 600x400 with 1 Axes>"
            ],
            "image/png": "[encoded data removed]"
          },
          "metadata": {}
        }
      ]
    },
    {
      "cell_type": "code",
      "source": [
        "plt.figure(figsize=(6,4))\n",
        "\n",
        "sns.barplot(x='seller_type', y='selling_price', errorbar = \"sd\", data = df[['seller_type','selling_price']], palette='summer')\n",
        "plt.title('seller_type - price')\n",
        "plt.show()"
      ],
      "metadata": {
        "colab": {
          "base_uri": "https://localhost:8080/",
          "height": 410
        },
        "id": "58me_V4Zooot",
        "outputId": "3dad813b-6f40-41a9-d29e-60b3189c484f"
      },
      "execution_count": 51,
      "outputs": [
        {
          "output_type": "display_data",
          "data": {
            "text/plain": [
              "<Figure size 600x400 with 1 Axes>"
            ],
            "image/png": "[encoded data removed]"
          },
          "metadata": {}
        }
      ]
    },
    {
      "cell_type": "code",
      "source": [
        "plt.figure(figsize=(6,4))\n",
        "\n",
        "sns.barplot(x='transmission', y='selling_price', errorbar = \"sd\", data = df[['transmission','selling_price']], palette='summer')\n",
        "plt.title('transmission - price')\n",
        "plt.show()"
      ],
      "metadata": {
        "colab": {
          "base_uri": "https://localhost:8080/",
          "height": 410
        },
        "id": "ZZ2hb8Gzqjri",
        "outputId": "0a220150-1b77-4fcc-f1d9-80c61e2a49e3"
      },
      "execution_count": 52,
      "outputs": [
        {
          "output_type": "display_data",
          "data": {
            "text/plain": [
              "<Figure size 600x400 with 1 Axes>"
            ],
            "image/png": "[encoded data removed]"
          },
          "metadata": {}
        }
      ]
    },
    {
      "cell_type": "code",
      "source": [
        "plt.figure(figsize=(6,4))\n",
        "\n",
        "sns.barplot(x='owner', y='selling_price',\n",
        "            errorbar = \"sd\", data = df[['owner','selling_price']],\n",
        "            palette='summer')\n",
        "plt.title('owner - price')\n",
        "plt.show()"
      ],
      "metadata": {
        "colab": {
          "base_uri": "https://localhost:8080/",
          "height": 410
        },
        "id": "lIGjw2YIqjut",
        "outputId": "b8fb30b0-02d8-4232-e065-5f400b558a88"
      },
      "execution_count": 53,
      "outputs": [
        {
          "output_type": "display_data",
          "data": {
            "text/plain": [
              "<Figure size 600x400 with 1 Axes>"
            ],
            "image/png": "[encoded data removed]"
          },
          "metadata": {}
        }
      ]
    },
    {
      "cell_type": "markdown",
      "source": [
        "Как видно из распределений, машины на дизельном топливе и с автоматической коробкой передач чаще дороже. Покупать дешевле напрямую у владельца, а чем этих владельцев больше, тем также цена ниже, что логично."
      ],
      "metadata": {
        "id": "PdOuAOfjroio"
      }
    },
    {
      "cell_type": "code",
      "source": [
        "plt.figure(figsize=(6,4))\n",
        "\n",
        "sns.barplot(x='fuel', y='selling_price', hue='transmission',\n",
        "            data = df[['fuel','selling_price','transmission']],\n",
        "            palette='summer')\n",
        "plt.title('fuel& - selling_price')\n",
        "plt.show()"
      ],
      "metadata": {
        "colab": {
          "base_uri": "https://localhost:8080/",
          "height": 410
        },
        "id": "mZ_oc8Llqjxw",
        "outputId": "2e6fb794-c334-4f7b-a006-0a41fde7e90b"
      },
      "execution_count": 54,
      "outputs": [
        {
          "output_type": "display_data",
          "data": {
            "text/plain": [
              "<Figure size 600x400 with 1 Axes>"
            ],
            "image/png": "[encoded data removed]"
          },
          "metadata": {}
        }
      ]
    },
    {
      "cell_type": "markdown",
      "source": [
        "Большая стоимость автоматической коробки передач у машин с дизелем. С механикой даже на дизеле в разы дешевле."
      ],
      "metadata": {
        "id": "Umx8Y7xIs_0Y"
      }
    },
    {
      "cell_type": "markdown",
      "source": [
        "## Обучение модели"
      ],
      "metadata": {
        "id": "VMd1mI0yVPy3"
      }
    },
    {
      "cell_type": "markdown",
      "source": [
        "Создание тестовой и тренировочной выборки"
      ],
      "metadata": {
        "id": "orZjYOhW0Uf7"
      }
    },
    {
      "cell_type": "code",
      "source": [
        "X = df.drop(['selling_price','name'], axis=1)\n",
        "#,'seats','torque-RPM'\n",
        "y = df['selling_price'] # целевая переменная (target)"
      ],
      "metadata": {
        "id": "Xcys9pUIqj0k"
      },
      "execution_count": 55,
      "outputs": []
    },
    {
      "cell_type": "code",
      "source": [
        "from sklearn.model_selection import train_test_split\n",
        "\n",
        "X_train, X_test, y_train, y_test = train_test_split(X, y, test_size=0.2, random_state=RANDOM_STATE)\n",
        "\n",
        "print(X_train.shape, X_test.shape)"
      ],
      "metadata": {
        "colab": {
          "base_uri": "https://localhost:8080/"
        },
        "id": "1UnSP75Gqj3A",
        "outputId": "709f8235-9431-4b05-fb51-32b4c3db8861"
      },
      "execution_count": 56,
      "outputs": [
        {
          "output_type": "stream",
          "name": "stdout",
          "text": [
            "(5116, 12) (1279, 12)\n"
          ]
        }
      ]
    },
    {
      "cell_type": "markdown",
      "source": [
        "Кодирование категорий"
      ],
      "metadata": {
        "id": "WbiD5Mz1xds7"
      }
    },
    {
      "cell_type": "code",
      "source": [
        "from sklearn.preprocessing import OneHotEncoder\n",
        "\n",
        "ohe_kat = X_train.select_dtypes(include='object').columns.to_list()\n",
        "print(ohe_kat)\n",
        "list_of_chisl = list(X_train.drop(ohe_kat, axis=1).columns)\n",
        "print(list_of_chisl)\n",
        "\n",
        "encoder_ohe = OneHotEncoder(handle_unknown='ignore', drop='first', sparse=False)\n",
        "encoder_ohe.fit(X_train[ohe_kat])\n",
        "X_train[encoder_ohe.get_feature_names_out()] = encoder_ohe.transform(X_train[ohe_kat])\n",
        "\n",
        "# удаляем незакодированные категориальные признаки (изначальные колонки)\n",
        "X_train = X_train.drop(ohe_kat, axis=1)\n",
        "\n",
        "# энкодером, который обучен на ТРЕНИРОВОЧНОЙ ВЫБОРКЕ, кодируем тестовую\n",
        "X_test[encoder_ohe.get_feature_names_out()] = encoder_ohe.transform(X_test[ohe_kat])\n",
        "X_test = X_test.drop(ohe_kat, axis=1)"
      ],
      "metadata": {
        "colab": {
          "base_uri": "https://localhost:8080/"
        },
        "id": "puvumlDVxg_O",
        "outputId": "547d7c13-f295-48e2-d8c0-e552a902996e"
      },
      "execution_count": 57,
      "outputs": [
        {
          "output_type": "stream",
          "name": "stdout",
          "text": [
            "['fuel', 'seller_type', 'transmission', 'owner']\n",
            "['year', 'km_driven', 'mileage', 'engine', 'max_power', 'seats', 'torque-N/m', 'torque-RPM']\n"
          ]
        },
        {
          "output_type": "stream",
          "name": "stderr",
          "text": [
            "/usr/local/lib/python3.10/dist-packages/sklearn/preprocessing/_encoders.py:868: FutureWarning: `sparse` was renamed to `sparse_output` in version 1.2 and will be removed in 1.4. `sparse_output` is ignored unless you leave `sparse` to its default value.\n",
            "  warnings.warn(\n"
          ]
        }
      ]
    },
    {
      "cell_type": "code",
      "source": [
        "#сменим тип данных на целочисленный у преобразованных категориальных признаков\n",
        "\n",
        "ohe_kat2 = list(X_train.drop(list_of_chisl, axis=1).columns)\n",
        "for pris in ohe_kat2:\n",
        "    X_train[pris] = X_train[pris].astype(int)\n",
        "    X_test[pris] = X_test[pris].astype(int)"
      ],
      "metadata": {
        "id": "bJmBHg85giUY"
      },
      "execution_count": 58,
      "outputs": []
    },
    {
      "cell_type": "code",
      "source": [
        "print(X_train.shape)\n",
        "print(X_test.shape)"
      ],
      "metadata": {
        "colab": {
          "base_uri": "https://localhost:8080/"
        },
        "id": "4leX6Zfcg_gf",
        "outputId": "18231b92-32ba-4c40-ecc1-3b695307021f"
      },
      "execution_count": 59,
      "outputs": [
        {
          "output_type": "stream",
          "name": "stdout",
          "text": [
            "(5116, 17)\n",
            "(1279, 17)\n"
          ]
        }
      ]
    },
    {
      "cell_type": "markdown",
      "source": [
        "Масштабирование"
      ],
      "metadata": {
        "id": "HwZ1OnemuVUl"
      }
    },
    {
      "cell_type": "code",
      "source": [
        "from sklearn.preprocessing import StandardScaler\n",
        "\n",
        "scaler = StandardScaler()\n",
        "'''\n",
        "scaler.fit(X_train[list_of_chisl])\n",
        "X_train[list_of_chisl] = scaler.transform(X_train[list_of_chisl])\n",
        "X_test[list_of_chisl] = scaler.transform(X_test[list_of_chisl])\n",
        "'''\n",
        "\n",
        "scaler.fit(X_train)\n",
        "X_train = pd.DataFrame(scaler.transform(X_train),columns=X_train.columns)\n",
        "X_test = pd.DataFrame(scaler.transform(X_test),columns=X_test.columns)\n",
        "pd.options.mode.chained_assignment = None"
      ],
      "metadata": {
        "id": "RAm6gGkJuXGt"
      },
      "execution_count": 60,
      "outputs": []
    },
    {
      "cell_type": "code",
      "source": [
        "print(X_train.shape)\n",
        "print(X_test.shape)"
      ],
      "metadata": {
        "colab": {
          "base_uri": "https://localhost:8080/"
        },
        "id": "l3NO8YZDmC2Q",
        "outputId": "a82033c9-95e6-4b29-e93a-7e4f5c59d34f"
      },
      "execution_count": 61,
      "outputs": [
        {
          "output_type": "stream",
          "name": "stdout",
          "text": [
            "(5116, 17)\n",
            "(1279, 17)\n"
          ]
        }
      ]
    },
    {
      "cell_type": "code",
      "source": [
        "X_train.head()"
      ],
      "metadata": {
        "colab": {
          "base_uri": "https://localhost:8080/",
          "height": 305
        },
        "id": "ZQFVp6xztW8k",
        "outputId": "811846f3-cae0-4303-cbc3-6652a4df1ed4"
      },
      "execution_count": 62,
      "outputs": [
        {
          "output_type": "execute_result",
          "data": {
            "text/plain": [
              "       year  km_driven   mileage    engine  max_power     seats  torque-N/m  \\\n",
              "0  0.025415   0.258861 -1.712825  2.333974   0.534438  2.684094    0.465995   \n",
              "1  1.338788  -1.334982 -1.101184 -0.458426  -0.483033 -0.438195   -0.865454   \n",
              "2  0.550764  -0.119339  0.191487 -0.456274  -0.158622 -0.438195   -0.704066   \n",
              "3  0.550764  -1.312470 -1.376165  0.406401   0.641346 -0.438195   -0.166107   \n",
              "4  0.550764  -0.434506  0.124669  0.191270   0.095746 -0.438195    0.869464   \n",
              "\n",
              "   torque-RPM  fuel_Diesel  fuel_LPG  fuel_Petrol  seller_type_Individual  \\\n",
              "0    0.354849     0.948918 -0.067201    -0.926100                0.408946   \n",
              "1   -0.084059    -1.053832 -0.067201     1.079797                0.408946   \n",
              "2    1.232667    -1.053832 -0.067201     1.079797                0.408946   \n",
              "3    0.793758    -1.053832 -0.067201     1.079797               -2.445309   \n",
              "4   -0.632695     0.948918 -0.067201    -0.926100                0.408946   \n",
              "\n",
              "   seller_type_Trustmark Dealer  transmission_Manual  \\\n",
              "0                     -0.168963             0.314320   \n",
              "1                     -0.168963             0.314320   \n",
              "2                     -0.168963             0.314320   \n",
              "3                     -0.168963            -3.181468   \n",
              "4                     -0.168963             0.314320   \n",
              "\n",
              "   owner_Fourth & Above Owner  owner_Second Owner  owner_Third Owner  \n",
              "0                   -0.139749            1.688049          -0.265972  \n",
              "1                   -0.139749           -0.592400          -0.265972  \n",
              "2                   -0.139749           -0.592400          -0.265972  \n",
              "3                   -0.139749           -0.592400          -0.265972  \n",
              "4                   -0.139749           -0.592400          -0.265972  "
            ],
            "text/html": [
              "\n",
              "  <div id=\"df-8231a025-b340-4b87-9496-b2e0cca2475a\">\n",
              "    <div class=\"colab-df-container\">\n",
              "      <div>\n",
              "<style scoped>\n",
              "    .dataframe tbody tr th:only-of-type {\n",
              "        vertical-align: middle;\n",
              "    }\n",
              "\n",
              "    .dataframe tbody tr th {\n",
              "        vertical-align: top;\n",
              "    }\n",
              "\n",
              "    .dataframe thead th {\n",
              "        text-align: right;\n",
              "    }\n",
              "</style>\n",
              "<table border=\"1\" class=\"dataframe\">\n",
              "  <thead>\n",
              "    <tr style=\"text-align: right;\">\n",
              "      <th></th>\n",
              "      <th>year</th>\n",
              "      <th>km_driven</th>\n",
              "      <th>mileage</th>\n",
              "      <th>engine</th>\n",
              "      <th>max_power</th>\n",
              "      <th>seats</th>\n",
              "      <th>torque-N/m</th>\n",
              "      <th>torque-RPM</th>\n",
              "      <th>fuel_Diesel</th>\n",
              "      <th>fuel_LPG</th>\n",
              "      <th>fuel_Petrol</th>\n",
              "      <th>seller_type_Individual</th>\n",
              "      <th>seller_type_Trustmark Dealer</th>\n",
              "      <th>transmission_Manual</th>\n",
              "      <th>owner_Fourth &amp; Above Owner</th>\n",
              "      <th>owner_Second Owner</th>\n",
              "      <th>owner_Third Owner</th>\n",
              "    </tr>\n",
              "  </thead>\n",
              "  <tbody>\n",
              "    <tr>\n",
              "      <th>0</th>\n",
              "      <td>0.025415</td>\n",
              "      <td>0.258861</td>\n",
              "      <td>-1.712825</td>\n",
              "      <td>2.333974</td>\n",
              "      <td>0.534438</td>\n",
              "      <td>2.684094</td>\n",
              "      <td>0.465995</td>\n",
              "      <td>0.354849</td>\n",
              "      <td>0.948918</td>\n",
              "      <td>-0.067201</td>\n",
              "      <td>-0.926100</td>\n",
              "      <td>0.408946</td>\n",
              "      <td>-0.168963</td>\n",
              "      <td>0.314320</td>\n",
              "      <td>-0.139749</td>\n",
              "      <td>1.688049</td>\n",
              "      <td>-0.265972</td>\n",
              "    </tr>\n",
              "    <tr>\n",
              "      <th>1</th>\n",
              "      <td>1.338788</td>\n",
              "      <td>-1.334982</td>\n",
              "      <td>-1.101184</td>\n",
              "      <td>-0.458426</td>\n",
              "      <td>-0.483033</td>\n",
              "      <td>-0.438195</td>\n",
              "      <td>-0.865454</td>\n",
              "      <td>-0.084059</td>\n",
              "      <td>-1.053832</td>\n",
              "      <td>-0.067201</td>\n",
              "      <td>1.079797</td>\n",
              "      <td>0.408946</td>\n",
              "      <td>-0.168963</td>\n",
              "      <td>0.314320</td>\n",
              "      <td>-0.139749</td>\n",
              "      <td>-0.592400</td>\n",
              "      <td>-0.265972</td>\n",
              "    </tr>\n",
              "    <tr>\n",
              "      <th>2</th>\n",
              "      <td>0.550764</td>\n",
              "      <td>-0.119339</td>\n",
              "      <td>0.191487</td>\n",
              "      <td>-0.456274</td>\n",
              "      <td>-0.158622</td>\n",
              "      <td>-0.438195</td>\n",
              "      <td>-0.704066</td>\n",
              "      <td>1.232667</td>\n",
              "      <td>-1.053832</td>\n",
              "      <td>-0.067201</td>\n",
              "      <td>1.079797</td>\n",
              "      <td>0.408946</td>\n",
              "      <td>-0.168963</td>\n",
              "      <td>0.314320</td>\n",
              "      <td>-0.139749</td>\n",
              "      <td>-0.592400</td>\n",
              "      <td>-0.265972</td>\n",
              "    </tr>\n",
              "    <tr>\n",
              "      <th>3</th>\n",
              "      <td>0.550764</td>\n",
              "      <td>-1.312470</td>\n",
              "      <td>-1.376165</td>\n",
              "      <td>0.406401</td>\n",
              "      <td>0.641346</td>\n",
              "      <td>-0.438195</td>\n",
              "      <td>-0.166107</td>\n",
              "      <td>0.793758</td>\n",
              "      <td>-1.053832</td>\n",
              "      <td>-0.067201</td>\n",
              "      <td>1.079797</td>\n",
              "      <td>-2.445309</td>\n",
              "      <td>-0.168963</td>\n",
              "      <td>-3.181468</td>\n",
              "      <td>-0.139749</td>\n",
              "      <td>-0.592400</td>\n",
              "      <td>-0.265972</td>\n",
              "    </tr>\n",
              "    <tr>\n",
              "      <th>4</th>\n",
              "      <td>0.550764</td>\n",
              "      <td>-0.434506</td>\n",
              "      <td>0.124669</td>\n",
              "      <td>0.191270</td>\n",
              "      <td>0.095746</td>\n",
              "      <td>-0.438195</td>\n",
              "      <td>0.869464</td>\n",
              "      <td>-0.632695</td>\n",
              "      <td>0.948918</td>\n",
              "      <td>-0.067201</td>\n",
              "      <td>-0.926100</td>\n",
              "      <td>0.408946</td>\n",
              "      <td>-0.168963</td>\n",
              "      <td>0.314320</td>\n",
              "      <td>-0.139749</td>\n",
              "      <td>-0.592400</td>\n",
              "      <td>-0.265972</td>\n",
              "    </tr>\n",
              "  </tbody>\n",
              "</table>\n",
              "</div>\n",
              "      <button class=\"colab-df-convert\" onclick=\"convertToInteractive('df-8231a025-b340-4b87-9496-b2e0cca2475a')\"\n",
              "              title=\"Convert this dataframe to an interactive table.\"\n",
              "              style=\"display:none;\">\n",
              "        \n",
              "  <svg xmlns=\"http://www.w3.org/2000/svg\" height=\"24px\"viewBox=\"0 0 24 24\"\n",
              "       width=\"24px\">\n",
              "    <path d=\"M0 0h24v24H0V0z\" fill=\"none\"/>\n",
              "    <path d=\"M18.56 5.44l.94 2.06.94-2.06 2.06-.94-2.06-.94-.94-2.06-.94 2.06-2.06.94zm-11 1L8.5 8.5l.94-2.06 2.06-.94-2.06-.94L8.5 2.5l-.94 2.06-2.06.94zm10 10l.94 2.06.94-2.06 2.06-.94-2.06-.94-.94-2.06-.94 2.06-2.06.94z\"/><path d=\"M17.41 7.96l-1.37-1.37c-.4-.4-.92-.59-1.43-.59-.52 0-1.04.2-1.43.59L10.3 9.45l-7.72 7.72c-.78.78-.78 2.05 0 2.83L4 21.41c.39.39.9.59 1.41.59.51 0 1.02-.2 1.41-.59l7.78-7.78 2.81-2.81c.8-.78.8-2.07 0-2.86zM5.41 20L4 18.59l7.72-7.72 1.47 1.35L5.41 20z\"/>\n",
              "  </svg>\n",
              "      </button>\n",
              "      \n",
              "  <style>\n",
              "    .colab-df-container {\n",
              "      display:flex;\n",
              "      flex-wrap:wrap;\n",
              "      gap: 12px;\n",
              "    }\n",
              "\n",
              "    .colab-df-convert {\n",
              "      background-color: #E8F0FE;\n",
              "      border: none;\n",
              "      border-radius: 50%;\n",
              "      cursor: pointer;\n",
              "      display: none;\n",
              "      fill: #1967D2;\n",
              "      height: 32px;\n",
              "      padding: 0 0 0 0;\n",
              "      width: 32px;\n",
              "    }\n",
              "\n",
              "    .colab-df-convert:hover {\n",
              "      background-color: #E2EBFA;\n",
              "      box-shadow: 0px 1px 2px rgba(60, 64, 67, 0.3), 0px 1px 3px 1px rgba(60, 64, 67, 0.15);\n",
              "      fill: #174EA6;\n",
              "    }\n",
              "\n",
              "    [theme=dark] .colab-df-convert {\n",
              "      background-color: #3B4455;\n",
              "      fill: #D2E3FC;\n",
              "    }\n",
              "\n",
              "    [theme=dark] .colab-df-convert:hover {\n",
              "      background-color: #434B5C;\n",
              "      box-shadow: 0px 1px 3px 1px rgba(0, 0, 0, 0.15);\n",
              "      filter: drop-shadow(0px 1px 2px rgba(0, 0, 0, 0.3));\n",
              "      fill: #FFFFFF;\n",
              "    }\n",
              "  </style>\n",
              "\n",
              "      <script>\n",
              "        const buttonEl =\n",
              "          document.querySelector('#df-8231a025-b340-4b87-9496-b2e0cca2475a button.colab-df-convert');\n",
              "        buttonEl.style.display =\n",
              "          google.colab.kernel.accessAllowed ? 'block' : 'none';\n",
              "\n",
              "        async function convertToInteractive(key) {\n",
              "          const element = document.querySelector('#df-8231a025-b340-4b87-9496-b2e0cca2475a');\n",
              "          const dataTable =\n",
              "            await google.colab.kernel.invokeFunction('convertToInteractive',\n",
              "                                                     [key], {});\n",
              "          if (!dataTable) return;\n",
              "\n",
              "          const docLinkHtml = 'Like what you see? Visit the ' +\n",
              "            '<a target=\"_blank\" href=https://colab.research.google.com/notebooks/data_table.ipynb>data table notebook</a>'\n",
              "            + ' to learn more about interactive tables.';\n",
              "          element.innerHTML = '';\n",
              "          dataTable['output_type'] = 'display_data';\n",
              "          await google.colab.output.renderOutput(dataTable, element);\n",
              "          const docLink = document.createElement('div');\n",
              "          docLink.innerHTML = docLinkHtml;\n",
              "          element.appendChild(docLink);\n",
              "        }\n",
              "      </script>\n",
              "    </div>\n",
              "  </div>\n",
              "  "
            ]
          },
          "metadata": {},
          "execution_count": 62
        }
      ]
    },
    {
      "cell_type": "markdown",
      "source": [
        "Обучение моделей"
      ],
      "metadata": {
        "id": "lh03RntDxboJ"
      }
    },
    {
      "cell_type": "code",
      "source": [
        "from sklearn.linear_model import LinearRegression\n",
        "from sklearn.model_selection import GridSearchCV\n",
        "import numpy as np\n",
        "from sklearn.metrics import confusion_matrix, mean_absolute_error, mean_squared_error\n",
        "\n",
        "model = LinearRegression()\n",
        "\n",
        "model.fit(X_train, y_train)\n",
        "\n",
        "pred = model.predict(X_test)"
      ],
      "metadata": {
        "id": "bfJKfj06qlOD"
      },
      "execution_count": 63,
      "outputs": []
    },
    {
      "cell_type": "code",
      "source": [
        "mse = mean_squared_error(y_test,pred)\n",
        "print('mse линейной регрессии =',round(mse ** 0.5, 2))"
      ],
      "metadata": {
        "colab": {
          "base_uri": "https://localhost:8080/"
        },
        "id": "cXkesSqCqRQq",
        "outputId": "f99bf84f-a299-49f2-bfdb-ed33086903b4"
      },
      "execution_count": 64,
      "outputs": [
        {
          "output_type": "stream",
          "name": "stdout",
          "text": [
            "mse линейной регрессии = 178791.99\n"
          ]
        }
      ]
    },
    {
      "cell_type": "code",
      "source": [
        "mae = mean_absolute_error(y_test,pred)\n",
        "print('mae линейной регрессии =',mae)"
      ],
      "metadata": {
        "colab": {
          "base_uri": "https://localhost:8080/"
        },
        "id": "nbDvhBZxqfze",
        "outputId": "82f0926b-75a4-47ec-fe31-b21095e9d960"
      },
      "execution_count": 65,
      "outputs": [
        {
          "output_type": "stream",
          "name": "stdout",
          "text": [
            "mae линейной регрессии = 124817.82915496994\n"
          ]
        }
      ]
    },
    {
      "cell_type": "code",
      "source": [
        "!pip install catboost"
      ],
      "metadata": {
        "colab": {
          "base_uri": "https://localhost:8080/"
        },
        "id": "XK36m2lNeJEG",
        "outputId": "49819da7-b404-49b2-839f-cfde6aa1c22e"
      },
      "execution_count": 66,
      "outputs": [
        {
          "output_type": "stream",
          "name": "stdout",
          "text": [
            "Requirement already satisfied: catboost in /usr/local/lib/python3.10/dist-packages (1.2)\n",
            "Requirement already satisfied: graphviz in /usr/local/lib/python3.10/dist-packages (from catboost) (0.20.1)\n",
            "Requirement already satisfied: matplotlib in /usr/local/lib/python3.10/dist-packages (from catboost) (3.7.1)\n",
            "Requirement already satisfied: numpy>=1.16.0 in /usr/local/lib/python3.10/dist-packages (from catboost) (1.22.4)\n",
            "Requirement already satisfied: pandas>=0.24 in /usr/local/lib/python3.10/dist-packages (from catboost) (1.5.3)\n",
            "Requirement already satisfied: scipy in /usr/local/lib/python3.10/dist-packages (from catboost) (1.10.1)\n",
            "Requirement already satisfied: plotly in /usr/local/lib/python3.10/dist-packages (from catboost) (5.13.1)\n",
            "Requirement already satisfied: six in /usr/local/lib/python3.10/dist-packages (from catboost) (1.16.0)\n",
            "Requirement already satisfied: python-dateutil>=2.8.1 in /usr/local/lib/python3.10/dist-packages (from pandas>=0.24->catboost) (2.8.2)\n",
            "Requirement already satisfied: pytz>=2020.1 in /usr/local/lib/python3.10/dist-packages (from pandas>=0.24->catboost) (2022.7.1)\n",
            "Requirement already satisfied: contourpy>=1.0.1 in /usr/local/lib/python3.10/dist-packages (from matplotlib->catboost) (1.1.0)\n",
            "Requirement already satisfied: cycler>=0.10 in /usr/local/lib/python3.10/dist-packages (from matplotlib->catboost) (0.11.0)\n",
            "Requirement already satisfied: fonttools>=4.22.0 in /usr/local/lib/python3.10/dist-packages (from matplotlib->catboost) (4.40.0)\n",
            "Requirement already satisfied: kiwisolver>=1.0.1 in /usr/local/lib/python3.10/dist-packages (from matplotlib->catboost) (1.4.4)\n",
            "Requirement already satisfied: packaging>=20.0 in /usr/local/lib/python3.10/dist-packages (from matplotlib->catboost) (23.1)\n",
            "Requirement already satisfied: pillow>=6.2.0 in /usr/local/lib/python3.10/dist-packages (from matplotlib->catboost) (8.4.0)\n",
            "Requirement already satisfied: pyparsing>=2.3.1 in /usr/local/lib/python3.10/dist-packages (from matplotlib->catboost) (3.1.0)\n",
            "Requirement already satisfied: tenacity>=6.2.0 in /usr/local/lib/python3.10/dist-packages (from plotly->catboost) (8.2.2)\n"
          ]
        }
      ]
    },
    {
      "cell_type": "code",
      "source": [
        "from catboost import CatBoostRegressor"
      ],
      "metadata": {
        "id": "gf3H-msNeKDl"
      },
      "execution_count": 67,
      "outputs": []
    },
    {
      "cell_type": "code",
      "source": [
        "model_cb = CatBoostRegressor()\n",
        "\n",
        "param_dict = [{'learning_rate':[0.05, 0.1, 0.15],\n",
        "                'random_state':[42],\n",
        "                'depth':[7,8,9],\n",
        "                'verbose':[False]}]\n",
        "gridcb = GridSearchCV(model_cb, param_dict, cv=5, scoring='neg_mean_squared_error',n_jobs = -1)\n",
        "gridcb.fit(X_train, y_train)\n",
        "\n",
        "print(gridcb.best_estimator_)\n",
        "print()\n",
        "print(gridcb.best_params_)\n",
        "print()\n",
        "print(\"RMSE catboost =\",(-1 * gridcb.best_score_) ** 0.5)"
      ],
      "metadata": {
        "colab": {
          "base_uri": "https://localhost:8080/"
        },
        "id": "sG9vWPiko2Rc",
        "outputId": "0293a814-6060-42fe-b76f-4ac30eec21ed"
      },
      "execution_count": 68,
      "outputs": [
        {
          "output_type": "stream",
          "name": "stdout",
          "text": [
            "<catboost.core.CatBoostRegressor object at 0x7f54a8e70df0>\n",
            "\n",
            "{'depth': 7, 'learning_rate': 0.1, 'random_state': 42, 'verbose': False}\n",
            "\n",
            "RMSE catboost = 88971.28764657358\n"
          ]
        }
      ]
    },
    {
      "cell_type": "code",
      "source": [
        "pred = gridcb.predict(X_test)\n",
        "mae = mean_absolute_error(y_test,pred)\n",
        "print(\"MAE catboost =\",mae)"
      ],
      "metadata": {
        "colab": {
          "base_uri": "https://localhost:8080/"
        },
        "id": "yEa925vv4HlH",
        "outputId": "c2bf45e4-b1f6-4b91-ac08-d73e4a72c0d3"
      },
      "execution_count": 69,
      "outputs": [
        {
          "output_type": "stream",
          "name": "stdout",
          "text": [
            "MAE catboost = 59400.33593591398\n"
          ]
        }
      ]
    },
    {
      "cell_type": "code",
      "source": [
        "from sklearn.metrics import r2_score\n",
        "print(r2_score(y_test,pred))"
      ],
      "metadata": {
        "colab": {
          "base_uri": "https://localhost:8080/"
        },
        "id": "q0sVKMHzbV5Z",
        "outputId": "debc92e3-4c9e-45ed-c7ea-d88ae8116948"
      },
      "execution_count": 70,
      "outputs": [
        {
          "output_type": "stream",
          "name": "stdout",
          "text": [
            "0.9164701117534669\n"
          ]
        }
      ]
    },
    {
      "cell_type": "code",
      "source": [
        "from sklearn.tree import DecisionTreeRegressor\n",
        "\n",
        "model_t = DecisionTreeRegressor(criterion='squared_error', random_state=RANDOM_STATE, max_depth = 15)\n",
        "model_t.fit(X_train,y_train)\n",
        "\n",
        "pred = model.predict(X_test)\n",
        "mse = mean_squared_error(y_test,pred)\n",
        "print(\"RMSE TREE=\", round(mse ** 0.5, 2))"
      ],
      "metadata": {
        "colab": {
          "base_uri": "https://localhost:8080/"
        },
        "id": "pLPYDW29sRT6",
        "outputId": "4111bc28-b1c7-4be1-ba9b-5f11ba19366a"
      },
      "execution_count": 71,
      "outputs": [
        {
          "output_type": "stream",
          "name": "stdout",
          "text": [
            "RMSE TREE= 178791.99\n"
          ]
        }
      ]
    },
    {
      "cell_type": "code",
      "source": [
        "mae = mean_absolute_error(y_test,pred)\n",
        "print(\"MAE TREE=\",mae)"
      ],
      "metadata": {
        "colab": {
          "base_uri": "https://localhost:8080/"
        },
        "id": "ddiMUbx-5Y6t",
        "outputId": "6a48b196-9218-4e0a-aee2-fd294f4fb677"
      },
      "execution_count": 72,
      "outputs": [
        {
          "output_type": "stream",
          "name": "stdout",
          "text": [
            "MAE TREE= 124817.82915496994\n"
          ]
        }
      ]
    },
    {
      "cell_type": "code",
      "source": [
        "\n",
        "\n",
        "#confusion_matrix(y_test, pred)"
      ],
      "metadata": {
        "id": "OlZFu_3eaz9T"
      },
      "execution_count": 73,
      "outputs": []
    },
    {
      "cell_type": "markdown",
      "source": [
        "Проверка на адекватность через качество фиктивной модели"
      ],
      "metadata": {
        "id": "6IbnMgaZvBJd"
      }
    },
    {
      "cell_type": "code",
      "source": [
        "from sklearn.dummy import DummyRegressor\n",
        "\n",
        "dummy_model = DummyRegressor(strategy='mean', constant=1)\n",
        "dummy_model.fit(X_train,y_train)\n",
        "mse = mean_squared_error(y_test, dummy_model.predict(X_test))\n",
        "print(mse)\n",
        "mae = mean_absolute_error(y_test,dummy_model.predict(X_test))\n",
        "print(mae)\n",
        ""
      ],
      "metadata": {
        "id": "HGCc5T4Iqne8",
        "colab": {
          "base_uri": "https://localhost:8080/"
        },
        "outputId": "b91992f5-d1a1-4ec1-eed7-1e7c9009142d"
      },
      "execution_count": 74,
      "outputs": [
        {
          "output_type": "stream",
          "name": "stdout",
          "text": [
            "104816185240.40268\n",
            "239353.98710265852\n"
          ]
        }
      ]
    },
    {
      "cell_type": "markdown",
      "source": [
        "Модель адекватна."
      ],
      "metadata": {
        "id": "lmnygbGfg1v0"
      }
    },
    {
      "cell_type": "code",
      "source": [
        "len(df)- len(df.drop_duplicates ())"
      ],
      "metadata": {
        "colab": {
          "base_uri": "https://localhost:8080/"
        },
        "id": "WAe25m16v4eZ",
        "outputId": "c54540c6-5d66-47be-e92e-bbe55d56125c"
      },
      "execution_count": 75,
      "outputs": [
        {
          "output_type": "execute_result",
          "data": {
            "text/plain": [
              "737"
            ]
          },
          "metadata": {},
          "execution_count": 75
        }
      ]
    },
    {
      "cell_type": "code",
      "source": [
        "\n",
        "'''\n",
        "import pickle\n",
        "\n",
        "with open('model.pickle', 'wb') as f:\n",
        "    pickle.dump(gridcb, f)\n",
        "\n",
        "#а так модель можно загрузить из файла:\n",
        "#with open('model.pickle', 'rb') as f:\n",
        "#    model = pickle.load(f)\n",
        "'''"
      ],
      "metadata": {
        "colab": {
          "base_uri": "https://localhost:8080/",
          "height": 52
        },
        "id": "3pFlQRIirSTX",
        "outputId": "aebf18df-a0b3-472e-cd4f-6c848a462430"
      },
      "execution_count": 76,
      "outputs": [
        {
          "output_type": "execute_result",
          "data": {
            "text/plain": [
              "\"\\nimport pickle\\n\\nwith open('model.pickle', 'wb') as f:\\n    pickle.dump(gridcb, f)\\n\\n#а так модель можно загрузить из файла:\\n#with open('model.pickle', 'rb') as f:\\n#    model = pickle.load(f)\\n\""
            ],
            "application/vnd.google.colaboratory.intrinsic+json": {
              "type": "string"
            }
          },
          "metadata": {},
          "execution_count": 76
        }
      ]
    }
  ]
}